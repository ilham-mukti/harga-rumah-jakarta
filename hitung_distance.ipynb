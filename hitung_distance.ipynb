{
  "nbformat": 4,
  "nbformat_minor": 0,
  "metadata": {
    "colab": {
      "name": "hitung-distance.ipynb",
      "provenance": [],
      "collapsed_sections": [],
      "authorship_tag": "ABX9TyNWyTNlw59zT8iRwhWRdJZQ",
      "include_colab_link": true
    },
    "kernelspec": {
      "name": "python3",
      "display_name": "Python 3"
    },
    "language_info": {
      "name": "python"
    }
  },
  "cells": [
    {
      "cell_type": "markdown",
      "metadata": {
        "id": "view-in-github",
        "colab_type": "text"
      },
      "source": [
        "<a href=\"https://colab.research.google.com/github/ilham-mukti/harga-rumah-jakarta/blob/main/hitung_distance.ipynb\" target=\"_parent\"><img src=\"https://colab.research.google.com/assets/colab-badge.svg\" alt=\"Open In Colab\"/></a>"
      ]
    },
    {
      "cell_type": "code",
      "metadata": {
        "id": "kTyKteCkpwrJ"
      },
      "source": [
        "!pip install folium"
      ],
      "execution_count": 2,
      "outputs": []
    },
    {
      "cell_type": "code",
      "metadata": {
        "id": "lea9LZC4KIiL"
      },
      "source": [
        "import pandas as pd\n",
        "import folium\n",
        "import numpy as np"
      ],
      "execution_count": 3,
      "outputs": []
    },
    {
      "cell_type": "markdown",
      "metadata": {
        "id": "NQFCXP5CNuYM"
      },
      "source": [
        "# Hitung Distance pakai data lat_long rumah + lat long kecamatan"
      ]
    },
    {
      "cell_type": "code",
      "metadata": {
        "id": "mEr8DMMsOA_E"
      },
      "source": [
        "# https://raw.githubusercontent.com/ilham-mukti/harga-rumah-jakarta/main/data/data_rumah_bersih_lat_long.csv\n",
        "# https://raw.githubusercontent.com/ilham-mukti/harga-rumah-jakarta/main/data/lat_long_kecamatan_jakarta.csv"
      ],
      "execution_count": null,
      "outputs": []
    },
    {
      "cell_type": "code",
      "metadata": {
        "id": "A8rsyMQLOjwR"
      },
      "source": [
        ""
      ],
      "execution_count": null,
      "outputs": []
    },
    {
      "cell_type": "code",
      "metadata": {
        "colab": {
          "base_uri": "https://localhost:8080/",
          "height": 666
        },
        "id": "sy78FRElohN5",
        "outputId": "003c214d-461f-49a0-b95c-389da4504662"
      },
      "source": [
        "data_alamat = pd.read_csv(\"https://raw.githubusercontent.com/ilham-mukti/harga-rumah-jakarta/main/data/data_rumah_bersih_lat_long.csv\")\n",
        "data_alamat.head()"
      ],
      "execution_count": null,
      "outputs": [
        {
          "output_type": "execute_result",
          "data": {
            "text/html": [
              "<div>\n",
              "<style scoped>\n",
              "    .dataframe tbody tr th:only-of-type {\n",
              "        vertical-align: middle;\n",
              "    }\n",
              "\n",
              "    .dataframe tbody tr th {\n",
              "        vertical-align: top;\n",
              "    }\n",
              "\n",
              "    .dataframe thead th {\n",
              "        text-align: right;\n",
              "    }\n",
              "</style>\n",
              "<table border=\"1\" class=\"dataframe\">\n",
              "  <thead>\n",
              "    <tr style=\"text-align: right;\">\n",
              "      <th></th>\n",
              "      <th>nama_rumah</th>\n",
              "      <th>kamar_mandi</th>\n",
              "      <th>kamar_tidur</th>\n",
              "      <th>luas_m2</th>\n",
              "      <th>harga</th>\n",
              "      <th>harga_m2</th>\n",
              "      <th>alamat</th>\n",
              "      <th>link</th>\n",
              "      <th>harga_kategori</th>\n",
              "      <th>harga_m2_kategori</th>\n",
              "      <th>latitude</th>\n",
              "      <th>longitude</th>\n",
              "    </tr>\n",
              "  </thead>\n",
              "  <tbody>\n",
              "    <tr>\n",
              "      <th>0</th>\n",
              "      <td>rumah baru patra kuningan</td>\n",
              "      <td>8</td>\n",
              "      <td>8</td>\n",
              "      <td>4617</td>\n",
              "      <td>300000000000</td>\n",
              "      <td>150000000</td>\n",
              "      <td>patra, gatot subroto, kuningan, jakarta, Patra...</td>\n",
              "      <td>https://www.rumah.com/listing-properti/dijual-...</td>\n",
              "      <td>20 M - Max</td>\n",
              "      <td>30 Juta- Max</td>\n",
              "      <td>-6.234260</td>\n",
              "      <td>106.83154</td>\n",
              "    </tr>\n",
              "    <tr>\n",
              "      <th>1</th>\n",
              "      <td>Hunian mewah 3 lantai di lengkapi Rooftop loka...</td>\n",
              "      <td>4</td>\n",
              "      <td>4</td>\n",
              "      <td>95</td>\n",
              "      <td>173000000000</td>\n",
              "      <td>2790322581</td>\n",
              "      <td>jagakarsa, jakarta timur, Jagakarsa, Jakarta S...</td>\n",
              "      <td>https://www.rumah.com/listing-properti/dijual-...</td>\n",
              "      <td>20 M - Max</td>\n",
              "      <td>30 Juta- Max</td>\n",
              "      <td>-6.334500</td>\n",
              "      <td>106.81966</td>\n",
              "    </tr>\n",
              "    <tr>\n",
              "      <th>2</th>\n",
              "      <td>5 Bedrooms Rumah Kebayoran Baru, Jakarta Selat...</td>\n",
              "      <td>5</td>\n",
              "      <td>5</td>\n",
              "      <td>914</td>\n",
              "      <td>170000000000</td>\n",
              "      <td>175983437</td>\n",
              "      <td>Kebayoran Baru, Jakarta Selatan, DKI Jakarta</td>\n",
              "      <td>https://www.rumah.com/listing-properti/dijual-...</td>\n",
              "      <td>20 M - Max</td>\n",
              "      <td>30 Juta- Max</td>\n",
              "      <td>-6.251470</td>\n",
              "      <td>106.79754</td>\n",
              "    </tr>\n",
              "    <tr>\n",
              "      <th>3</th>\n",
              "      <td>Rumah Dijual Pondok Indah</td>\n",
              "      <td>5</td>\n",
              "      <td>5</td>\n",
              "      <td>1619</td>\n",
              "      <td>110000000000</td>\n",
              "      <td>68750000</td>\n",
              "      <td>Pondok Indah, Pondok Indah, Jakarta Selatan, D...</td>\n",
              "      <td>https://www.rumah.com/listing-properti/dijual-...</td>\n",
              "      <td>20 M - Max</td>\n",
              "      <td>30 Juta- Max</td>\n",
              "      <td>-6.268570</td>\n",
              "      <td>106.78056</td>\n",
              "    </tr>\n",
              "    <tr>\n",
              "      <th>4</th>\n",
              "      <td>Dijual rumah pangeran antasari mewah &amp; Elite</td>\n",
              "      <td>6</td>\n",
              "      <td>5</td>\n",
              "      <td>936</td>\n",
              "      <td>102000000000</td>\n",
              "      <td>39968652</td>\n",
              "      <td>jl pangeran antasari, Antasari, Jakarta Selata...</td>\n",
              "      <td>https://www.rumah.com/listing-properti/dijual-...</td>\n",
              "      <td>20 M - Max</td>\n",
              "      <td>30 Juta- Max</td>\n",
              "      <td>-6.261929</td>\n",
              "      <td>106.81267</td>\n",
              "    </tr>\n",
              "  </tbody>\n",
              "</table>\n",
              "</div>"
            ],
            "text/plain": [
              "                                          nama_rumah  ...  longitude\n",
              "0                          rumah baru patra kuningan  ...  106.83154\n",
              "1  Hunian mewah 3 lantai di lengkapi Rooftop loka...  ...  106.81966\n",
              "2  5 Bedrooms Rumah Kebayoran Baru, Jakarta Selat...  ...  106.79754\n",
              "3                          Rumah Dijual Pondok Indah  ...  106.78056\n",
              "4       Dijual rumah pangeran antasari mewah & Elite  ...  106.81267\n",
              "\n",
              "[5 rows x 12 columns]"
            ]
          },
          "metadata": {},
          "execution_count": 43
        }
      ]
    },
    {
      "cell_type": "code",
      "metadata": {
        "id": "4oGq821Jp7dg"
      },
      "source": [
        "m = folium.Map(location=[-6.232970,106.834572], tiles='OpenStreetMap', zoom_start=11)\n",
        "m"
      ],
      "execution_count": null,
      "outputs": []
    },
    {
      "cell_type": "code",
      "metadata": {
        "id": "CievUNdSqFc7"
      },
      "source": [
        "for x in range(1, len(data_alamat.latitude)):\n",
        "  folium.Marker(location=[data_alamat.latitude[x], data_alamat.longitude[x]], popup=data_alamat.harga_m2_kategori[x], tooltip=data_alamat.harga_m2_kategori[x], icon=folium.Icon(color='blue',icon=\"car\", prefix='fa')).add_to(m)\n",
        "m"
      ],
      "execution_count": null,
      "outputs": []
    },
    {
      "cell_type": "code",
      "metadata": {
        "colab": {
          "base_uri": "https://localhost:8080/",
          "height": 289
        },
        "id": "4fYam9FHo3PB",
        "outputId": "fe49fada-6956-4e87-ae1f-9f7a5074da0c"
      },
      "source": [
        "datas_kecamatan = pd.read_csv(\"https://raw.githubusercontent.com/ilham-mukti/harga-rumah-jakarta/main/data/lat_long_kecamatan_jakarta.csv\")\n",
        "datas_kecamatan.head()"
      ],
      "execution_count": null,
      "outputs": [
        {
          "output_type": "execute_result",
          "data": {
            "text/html": [
              "<div>\n",
              "<style scoped>\n",
              "    .dataframe tbody tr th:only-of-type {\n",
              "        vertical-align: middle;\n",
              "    }\n",
              "\n",
              "    .dataframe tbody tr th {\n",
              "        vertical-align: top;\n",
              "    }\n",
              "\n",
              "    .dataframe thead th {\n",
              "        text-align: right;\n",
              "    }\n",
              "</style>\n",
              "<table border=\"1\" class=\"dataframe\">\n",
              "  <thead>\n",
              "    <tr style=\"text-align: right;\">\n",
              "      <th></th>\n",
              "      <th>WADMKC</th>\n",
              "      <th>WADMKK</th>\n",
              "      <th>KDCPUM</th>\n",
              "      <th>KDPKAB</th>\n",
              "      <th>LUASWH</th>\n",
              "      <th>SRS_ID</th>\n",
              "      <th>geometry</th>\n",
              "      <th>latitude</th>\n",
              "      <th>longitude</th>\n",
              "    </tr>\n",
              "  </thead>\n",
              "  <tbody>\n",
              "    <tr>\n",
              "      <th>0</th>\n",
              "      <td>MATRAMAN</td>\n",
              "      <td>JAKARTA TIMUR</td>\n",
              "      <td>317501</td>\n",
              "      <td>3175</td>\n",
              "      <td>485.76</td>\n",
              "      <td>NaN</td>\n",
              "      <td>POLYGON ((106.872419673 -6.191962009999991, 10...</td>\n",
              "      <td>-6.203613</td>\n",
              "      <td>106.864537</td>\n",
              "    </tr>\n",
              "    <tr>\n",
              "      <th>1</th>\n",
              "      <td>PULO GADUNG</td>\n",
              "      <td>JAKARTA TIMUR</td>\n",
              "      <td>317502</td>\n",
              "      <td>3175</td>\n",
              "      <td>1490.49</td>\n",
              "      <td>NaN</td>\n",
              "      <td>POLYGON ((106.894313929 -6.176124201000003, 10...</td>\n",
              "      <td>-6.193199</td>\n",
              "      <td>106.889005</td>\n",
              "    </tr>\n",
              "    <tr>\n",
              "      <th>2</th>\n",
              "      <td>JATINEGARA</td>\n",
              "      <td>JAKARTA TIMUR</td>\n",
              "      <td>317503</td>\n",
              "      <td>3175</td>\n",
              "      <td>1034.56</td>\n",
              "      <td>NaN</td>\n",
              "      <td>POLYGON ((106.867569938 -6.214965902000014, 10...</td>\n",
              "      <td>-6.227304</td>\n",
              "      <td>106.877425</td>\n",
              "    </tr>\n",
              "    <tr>\n",
              "      <th>3</th>\n",
              "      <td>KRAMAT JATI</td>\n",
              "      <td>JAKARTA TIMUR</td>\n",
              "      <td>317504</td>\n",
              "      <td>3175</td>\n",
              "      <td>1307.12</td>\n",
              "      <td>NaN</td>\n",
              "      <td>POLYGON ((106.872471381 -6.25396527399999, 106...</td>\n",
              "      <td>-6.276307</td>\n",
              "      <td>106.865442</td>\n",
              "    </tr>\n",
              "    <tr>\n",
              "      <th>4</th>\n",
              "      <td>PASAR REBO</td>\n",
              "      <td>JAKARTA TIMUR</td>\n",
              "      <td>317505</td>\n",
              "      <td>3175</td>\n",
              "      <td>1247.23</td>\n",
              "      <td>NaN</td>\n",
              "      <td>POLYGON ((106.857950001 -6.292213000000013, 10...</td>\n",
              "      <td>-6.326415</td>\n",
              "      <td>106.857256</td>\n",
              "    </tr>\n",
              "  </tbody>\n",
              "</table>\n",
              "</div>"
            ],
            "text/plain": [
              "        WADMKC         WADMKK  ...  latitude   longitude\n",
              "0     MATRAMAN  JAKARTA TIMUR  ... -6.203613  106.864537\n",
              "1  PULO GADUNG  JAKARTA TIMUR  ... -6.193199  106.889005\n",
              "2   JATINEGARA  JAKARTA TIMUR  ... -6.227304  106.877425\n",
              "3  KRAMAT JATI  JAKARTA TIMUR  ... -6.276307  106.865442\n",
              "4   PASAR REBO  JAKARTA TIMUR  ... -6.326415  106.857256\n",
              "\n",
              "[5 rows x 9 columns]"
            ]
          },
          "metadata": {},
          "execution_count": 52
        }
      ]
    },
    {
      "cell_type": "code",
      "metadata": {
        "id": "pSTzVZhh8tfa"
      },
      "source": [
        ""
      ],
      "execution_count": null,
      "outputs": []
    },
    {
      "cell_type": "code",
      "metadata": {
        "colab": {
          "base_uri": "https://localhost:8080/",
          "height": 204
        },
        "id": "rEp7sAWBvowP",
        "outputId": "1e7237ae-d25b-4630-b156-795f8f58da50"
      },
      "source": [
        "data_kecamatan = datas_kecamatan[datas_kecamatan['WADMKK'] == 'JAKARTA SELATAN']\n",
        "data_kecamatan = data_kecamatan[['WADMKC', 'latitude', 'longitude']]\n",
        "data_kecamatan.head()"
      ],
      "execution_count": null,
      "outputs": [
        {
          "output_type": "execute_result",
          "data": {
            "text/html": [
              "<div>\n",
              "<style scoped>\n",
              "    .dataframe tbody tr th:only-of-type {\n",
              "        vertical-align: middle;\n",
              "    }\n",
              "\n",
              "    .dataframe tbody tr th {\n",
              "        vertical-align: top;\n",
              "    }\n",
              "\n",
              "    .dataframe thead th {\n",
              "        text-align: right;\n",
              "    }\n",
              "</style>\n",
              "<table border=\"1\" class=\"dataframe\">\n",
              "  <thead>\n",
              "    <tr style=\"text-align: right;\">\n",
              "      <th></th>\n",
              "      <th>WADMKC</th>\n",
              "      <th>latitude</th>\n",
              "      <th>longitude</th>\n",
              "    </tr>\n",
              "  </thead>\n",
              "  <tbody>\n",
              "    <tr>\n",
              "      <th>34</th>\n",
              "      <td>TEBET</td>\n",
              "      <td>-6.228843</td>\n",
              "      <td>106.850904</td>\n",
              "    </tr>\n",
              "    <tr>\n",
              "      <th>35</th>\n",
              "      <td>SETIA BUDI</td>\n",
              "      <td>-6.219653</td>\n",
              "      <td>106.829994</td>\n",
              "    </tr>\n",
              "    <tr>\n",
              "      <th>36</th>\n",
              "      <td>MAMPANG PRAPATAN</td>\n",
              "      <td>-6.252314</td>\n",
              "      <td>106.820986</td>\n",
              "    </tr>\n",
              "    <tr>\n",
              "      <th>37</th>\n",
              "      <td>PASAR MINGGU</td>\n",
              "      <td>-6.290832</td>\n",
              "      <td>106.829292</td>\n",
              "    </tr>\n",
              "    <tr>\n",
              "      <th>38</th>\n",
              "      <td>KEBAYORAN LAMA</td>\n",
              "      <td>-6.249502</td>\n",
              "      <td>106.780078</td>\n",
              "    </tr>\n",
              "  </tbody>\n",
              "</table>\n",
              "</div>"
            ],
            "text/plain": [
              "              WADMKC  latitude   longitude\n",
              "34             TEBET -6.228843  106.850904\n",
              "35        SETIA BUDI -6.219653  106.829994\n",
              "36  MAMPANG PRAPATAN -6.252314  106.820986\n",
              "37      PASAR MINGGU -6.290832  106.829292\n",
              "38    KEBAYORAN LAMA -6.249502  106.780078"
            ]
          },
          "metadata": {},
          "execution_count": 53
        }
      ]
    },
    {
      "cell_type": "code",
      "metadata": {
        "colab": {
          "base_uri": "https://localhost:8080/",
          "height": 359
        },
        "id": "kQoMqM-1pcLA",
        "outputId": "88ea5f9a-bbeb-4476-d632-5fbcabe6a929"
      },
      "source": [
        "data_kecamatan.head(10)"
      ],
      "execution_count": 86,
      "outputs": [
        {
          "output_type": "execute_result",
          "data": {
            "text/html": [
              "<div>\n",
              "<style scoped>\n",
              "    .dataframe tbody tr th:only-of-type {\n",
              "        vertical-align: middle;\n",
              "    }\n",
              "\n",
              "    .dataframe tbody tr th {\n",
              "        vertical-align: top;\n",
              "    }\n",
              "\n",
              "    .dataframe thead th {\n",
              "        text-align: right;\n",
              "    }\n",
              "</style>\n",
              "<table border=\"1\" class=\"dataframe\">\n",
              "  <thead>\n",
              "    <tr style=\"text-align: right;\">\n",
              "      <th></th>\n",
              "      <th>WADMKC</th>\n",
              "      <th>latitude</th>\n",
              "      <th>longitude</th>\n",
              "    </tr>\n",
              "  </thead>\n",
              "  <tbody>\n",
              "    <tr>\n",
              "      <th>34</th>\n",
              "      <td>TEBET</td>\n",
              "      <td>-6.228843</td>\n",
              "      <td>106.850904</td>\n",
              "    </tr>\n",
              "    <tr>\n",
              "      <th>35</th>\n",
              "      <td>SETIA BUDI</td>\n",
              "      <td>-6.219653</td>\n",
              "      <td>106.829994</td>\n",
              "    </tr>\n",
              "    <tr>\n",
              "      <th>36</th>\n",
              "      <td>MAMPANG PRAPATAN</td>\n",
              "      <td>-6.252314</td>\n",
              "      <td>106.820986</td>\n",
              "    </tr>\n",
              "    <tr>\n",
              "      <th>37</th>\n",
              "      <td>PASAR MINGGU</td>\n",
              "      <td>-6.290832</td>\n",
              "      <td>106.829292</td>\n",
              "    </tr>\n",
              "    <tr>\n",
              "      <th>38</th>\n",
              "      <td>KEBAYORAN LAMA</td>\n",
              "      <td>-6.249502</td>\n",
              "      <td>106.780078</td>\n",
              "    </tr>\n",
              "    <tr>\n",
              "      <th>39</th>\n",
              "      <td>CILANDAK</td>\n",
              "      <td>-6.292671</td>\n",
              "      <td>106.793333</td>\n",
              "    </tr>\n",
              "    <tr>\n",
              "      <th>40</th>\n",
              "      <td>KEBAYORAN BARU</td>\n",
              "      <td>-6.244730</td>\n",
              "      <td>106.801442</td>\n",
              "    </tr>\n",
              "    <tr>\n",
              "      <th>41</th>\n",
              "      <td>PANCORAN</td>\n",
              "      <td>-6.255339</td>\n",
              "      <td>106.843633</td>\n",
              "    </tr>\n",
              "    <tr>\n",
              "      <th>42</th>\n",
              "      <td>JAGAKARSA</td>\n",
              "      <td>-6.334072</td>\n",
              "      <td>106.822342</td>\n",
              "    </tr>\n",
              "    <tr>\n",
              "      <th>43</th>\n",
              "      <td>PESANGGRAHAN</td>\n",
              "      <td>-6.250397</td>\n",
              "      <td>106.758676</td>\n",
              "    </tr>\n",
              "  </tbody>\n",
              "</table>\n",
              "</div>"
            ],
            "text/plain": [
              "              WADMKC  latitude   longitude\n",
              "34             TEBET -6.228843  106.850904\n",
              "35        SETIA BUDI -6.219653  106.829994\n",
              "36  MAMPANG PRAPATAN -6.252314  106.820986\n",
              "37      PASAR MINGGU -6.290832  106.829292\n",
              "38    KEBAYORAN LAMA -6.249502  106.780078\n",
              "39          CILANDAK -6.292671  106.793333\n",
              "40    KEBAYORAN BARU -6.244730  106.801442\n",
              "41          PANCORAN -6.255339  106.843633\n",
              "42         JAGAKARSA -6.334072  106.822342\n",
              "43      PESANGGRAHAN -6.250397  106.758676"
            ]
          },
          "metadata": {},
          "execution_count": 86
        }
      ]
    },
    {
      "cell_type": "code",
      "metadata": {
        "id": "b8Gd801mwBbK",
        "colab": {
          "base_uri": "https://localhost:8080/"
        },
        "outputId": "b1d0258e-006c-469e-e690-66640d216ec7"
      },
      "source": [
        "for x in data_kecamatan['WADMKC'].index:\n",
        "  print(x, data_kecamatan['WADMKC'][x])"
      ],
      "execution_count": 92,
      "outputs": [
        {
          "output_type": "stream",
          "text": [
            "34 TEBET\n",
            "35 SETIA BUDI\n",
            "36 MAMPANG PRAPATAN\n",
            "37 PASAR MINGGU\n",
            "38 KEBAYORAN LAMA\n",
            "39 CILANDAK\n",
            "40 KEBAYORAN BARU\n",
            "41 PANCORAN\n",
            "42 JAGAKARSA\n",
            "43 PESANGGRAHAN\n"
          ],
          "name": "stdout"
        }
      ]
    },
    {
      "cell_type": "code",
      "metadata": {
        "id": "Vv88t3QU_wx2"
      },
      "source": [
        "data_alamat['nomor'] = data_alamat.index"
      ],
      "execution_count": 73,
      "outputs": []
    },
    {
      "cell_type": "code",
      "metadata": {
        "id": "y6eNhuKP920L"
      },
      "source": [
        "def convert(x):\n",
        "  index = 43\n",
        "  return np.abs(data_kecamatan.longitude[index] - data_alamat.longitude[x]) + np.abs(data_kecamatan.latitude[index] - data_alamat.latitude[x])"
      ],
      "execution_count": 107,
      "outputs": []
    },
    {
      "cell_type": "code",
      "metadata": {
        "colab": {
          "base_uri": "https://localhost:8080/",
          "height": 318
        },
        "id": "ExBxvBTa9ol9",
        "outputId": "e607c538-5d05-43a2-b8b4-2a5d015ec8ae"
      },
      "source": [
        "data_alamat['PESANGGRAHAN'] = data_alamat.nomor.apply(convert)\n",
        "data_alamat.head(2)"
      ],
      "execution_count": 108,
      "outputs": [
        {
          "output_type": "execute_result",
          "data": {
            "text/html": [
              "<div>\n",
              "<style scoped>\n",
              "    .dataframe tbody tr th:only-of-type {\n",
              "        vertical-align: middle;\n",
              "    }\n",
              "\n",
              "    .dataframe tbody tr th {\n",
              "        vertical-align: top;\n",
              "    }\n",
              "\n",
              "    .dataframe thead th {\n",
              "        text-align: right;\n",
              "    }\n",
              "</style>\n",
              "<table border=\"1\" class=\"dataframe\">\n",
              "  <thead>\n",
              "    <tr style=\"text-align: right;\">\n",
              "      <th></th>\n",
              "      <th>nama_rumah</th>\n",
              "      <th>kamar_mandi</th>\n",
              "      <th>kamar_tidur</th>\n",
              "      <th>luas_m2</th>\n",
              "      <th>harga</th>\n",
              "      <th>harga_m2</th>\n",
              "      <th>alamat</th>\n",
              "      <th>link</th>\n",
              "      <th>harga_kategori</th>\n",
              "      <th>harga_m2_kategori</th>\n",
              "      <th>latitude</th>\n",
              "      <th>longitude</th>\n",
              "      <th>distance</th>\n",
              "      <th>nomor</th>\n",
              "      <th>TEBET</th>\n",
              "      <th>SETIA BUDI</th>\n",
              "      <th>MAMPANG PRAPATAN</th>\n",
              "      <th>PASAR MINGGU</th>\n",
              "      <th>KEBAYORAN LAMA</th>\n",
              "      <th>CILANDAK</th>\n",
              "      <th>KEBAYORAN BARU</th>\n",
              "      <th>PANCORAN</th>\n",
              "      <th>JAGAKARSA</th>\n",
              "      <th>PESANGGRAHAN</th>\n",
              "    </tr>\n",
              "  </thead>\n",
              "  <tbody>\n",
              "    <tr>\n",
              "      <th>0</th>\n",
              "      <td>rumah baru patra kuningan</td>\n",
              "      <td>8</td>\n",
              "      <td>8</td>\n",
              "      <td>4617</td>\n",
              "      <td>300000000000</td>\n",
              "      <td>150000000</td>\n",
              "      <td>patra, gatot subroto, kuningan, jakarta, Patra...</td>\n",
              "      <td>https://www.rumah.com/listing-properti/dijual-...</td>\n",
              "      <td>20 M - Max</td>\n",
              "      <td>30 Juta- Max</td>\n",
              "      <td>-6.23426</td>\n",
              "      <td>106.83154</td>\n",
              "      <td>NaN</td>\n",
              "      <td>0</td>\n",
              "      <td>0.024781</td>\n",
              "      <td>0.016152</td>\n",
              "      <td>0.028608</td>\n",
              "      <td>0.05882</td>\n",
              "      <td>0.066704</td>\n",
              "      <td>0.096618</td>\n",
              "      <td>0.040568</td>\n",
              "      <td>0.033172</td>\n",
              "      <td>0.109011</td>\n",
              "      <td>0.089001</td>\n",
              "    </tr>\n",
              "    <tr>\n",
              "      <th>1</th>\n",
              "      <td>Hunian mewah 3 lantai di lengkapi Rooftop loka...</td>\n",
              "      <td>4</td>\n",
              "      <td>4</td>\n",
              "      <td>95</td>\n",
              "      <td>173000000000</td>\n",
              "      <td>2790322581</td>\n",
              "      <td>jagakarsa, jakarta timur, Jagakarsa, Jakarta S...</td>\n",
              "      <td>https://www.rumah.com/listing-properti/dijual-...</td>\n",
              "      <td>20 M - Max</td>\n",
              "      <td>30 Juta- Max</td>\n",
              "      <td>-6.33450</td>\n",
              "      <td>106.81966</td>\n",
              "      <td>NaN</td>\n",
              "      <td>1</td>\n",
              "      <td>0.136901</td>\n",
              "      <td>0.125181</td>\n",
              "      <td>0.083512</td>\n",
              "      <td>0.05330</td>\n",
              "      <td>0.124581</td>\n",
              "      <td>0.068157</td>\n",
              "      <td>0.107988</td>\n",
              "      <td>0.103133</td>\n",
              "      <td>0.003109</td>\n",
              "      <td>0.145088</td>\n",
              "    </tr>\n",
              "  </tbody>\n",
              "</table>\n",
              "</div>"
            ],
            "text/plain": [
              "                                          nama_rumah  ...  PESANGGRAHAN\n",
              "0                          rumah baru patra kuningan  ...      0.089001\n",
              "1  Hunian mewah 3 lantai di lengkapi Rooftop loka...  ...      0.145088\n",
              "\n",
              "[2 rows x 24 columns]"
            ]
          },
          "metadata": {},
          "execution_count": 108
        }
      ]
    },
    {
      "cell_type": "code",
      "metadata": {
        "id": "ADGsKjDvAkMX"
      },
      "source": [
        "data_alamat.to_csv(\"data_rumah_bersih_distance.csv\", index=False)"
      ],
      "execution_count": 109,
      "outputs": []
    },
    {
      "cell_type": "code",
      "metadata": {
        "id": "Jz1kyLsvDPKH"
      },
      "source": [
        ""
      ],
      "execution_count": null,
      "outputs": []
    },
    {
      "cell_type": "markdown",
      "metadata": {
        "id": "-iy4BrIMYZrV"
      },
      "source": [
        "# Pilih kelurahan terdekat"
      ]
    },
    {
      "cell_type": "code",
      "metadata": {
        "colab": {
          "base_uri": "https://localhost:8080/"
        },
        "id": "ygfK6MqQYbse",
        "outputId": "23fd31fe-0cd6-46e3-c84c-9e8030136e5b"
      },
      "source": [
        "datas = pd.read_csv(\"https://github.com/ilham-mukti/harga-rumah-jakarta/raw/main/data/data_rumah_bersih_distance.csv\")\n",
        "datas.columns"
      ],
      "execution_count": 18,
      "outputs": [
        {
          "output_type": "execute_result",
          "data": {
            "text/plain": [
              "Index(['nama_rumah', 'kamar_mandi', 'kamar_tidur', 'luas_m2', 'harga',\n",
              "       'harga_m2', 'alamat', 'link', 'harga_kategori', 'harga_m2_kategori',\n",
              "       'latitude', 'longitude', 'distance', 'nomor', 'TEBET', 'SETIA BUDI',\n",
              "       'MAMPANG PRAPATAN', 'PASAR MINGGU', 'KEBAYORAN LAMA', 'CILANDAK',\n",
              "       'KEBAYORAN BARU', 'PANCORAN', 'JAGAKARSA', 'PESANGGRAHAN'],\n",
              "      dtype='object')"
            ]
          },
          "metadata": {},
          "execution_count": 18
        }
      ]
    },
    {
      "cell_type": "code",
      "metadata": {
        "id": "266JThFMbnrM"
      },
      "source": [
        "datas['kecamatan_terdekat'] = datas.loc[:, 'TEBET': 'PESANGGRAHAN'].idxmin(axis=1)"
      ],
      "execution_count": 19,
      "outputs": []
    },
    {
      "cell_type": "code",
      "metadata": {
        "id": "-S2N7u3mbvnj"
      },
      "source": [
        "datas.drop('distance', axis=1, inplace=True)"
      ],
      "execution_count": 23,
      "outputs": []
    },
    {
      "cell_type": "code",
      "metadata": {
        "id": "KdPdMSSRdOzT"
      },
      "source": [
        "datas.to_csv(\"data_rumah_bersih_distance.csv\", index=False)"
      ],
      "execution_count": 25,
      "outputs": []
    },
    {
      "cell_type": "code",
      "metadata": {
        "colab": {
          "base_uri": "https://localhost:8080/",
          "height": 683
        },
        "id": "IyzKE9d5o49J",
        "outputId": "d97e5e69-6cac-4071-adb9-c37f45910d82"
      },
      "source": [
        "datas.head()"
      ],
      "execution_count": 26,
      "outputs": [
        {
          "output_type": "execute_result",
          "data": {
            "text/html": [
              "<div>\n",
              "<style scoped>\n",
              "    .dataframe tbody tr th:only-of-type {\n",
              "        vertical-align: middle;\n",
              "    }\n",
              "\n",
              "    .dataframe tbody tr th {\n",
              "        vertical-align: top;\n",
              "    }\n",
              "\n",
              "    .dataframe thead th {\n",
              "        text-align: right;\n",
              "    }\n",
              "</style>\n",
              "<table border=\"1\" class=\"dataframe\">\n",
              "  <thead>\n",
              "    <tr style=\"text-align: right;\">\n",
              "      <th></th>\n",
              "      <th>nama_rumah</th>\n",
              "      <th>kamar_mandi</th>\n",
              "      <th>kamar_tidur</th>\n",
              "      <th>luas_m2</th>\n",
              "      <th>harga</th>\n",
              "      <th>harga_m2</th>\n",
              "      <th>alamat</th>\n",
              "      <th>link</th>\n",
              "      <th>harga_kategori</th>\n",
              "      <th>harga_m2_kategori</th>\n",
              "      <th>latitude</th>\n",
              "      <th>longitude</th>\n",
              "      <th>nomor</th>\n",
              "      <th>TEBET</th>\n",
              "      <th>SETIA BUDI</th>\n",
              "      <th>MAMPANG PRAPATAN</th>\n",
              "      <th>PASAR MINGGU</th>\n",
              "      <th>KEBAYORAN LAMA</th>\n",
              "      <th>CILANDAK</th>\n",
              "      <th>KEBAYORAN BARU</th>\n",
              "      <th>PANCORAN</th>\n",
              "      <th>JAGAKARSA</th>\n",
              "      <th>PESANGGRAHAN</th>\n",
              "      <th>kecamatan_terdekat</th>\n",
              "    </tr>\n",
              "  </thead>\n",
              "  <tbody>\n",
              "    <tr>\n",
              "      <th>0</th>\n",
              "      <td>rumah baru patra kuningan</td>\n",
              "      <td>8</td>\n",
              "      <td>8</td>\n",
              "      <td>4617</td>\n",
              "      <td>300000000000</td>\n",
              "      <td>150000000</td>\n",
              "      <td>patra, gatot subroto, kuningan, jakarta, Patra...</td>\n",
              "      <td>https://www.rumah.com/listing-properti/dijual-...</td>\n",
              "      <td>20 M - Max</td>\n",
              "      <td>30 Juta- Max</td>\n",
              "      <td>-6.234260</td>\n",
              "      <td>106.83154</td>\n",
              "      <td>0</td>\n",
              "      <td>0.024781</td>\n",
              "      <td>0.016152</td>\n",
              "      <td>0.028608</td>\n",
              "      <td>0.058820</td>\n",
              "      <td>0.066704</td>\n",
              "      <td>0.096618</td>\n",
              "      <td>0.040568</td>\n",
              "      <td>0.033172</td>\n",
              "      <td>0.109011</td>\n",
              "      <td>0.089001</td>\n",
              "      <td>SETIA BUDI</td>\n",
              "    </tr>\n",
              "    <tr>\n",
              "      <th>1</th>\n",
              "      <td>Hunian mewah 3 lantai di lengkapi Rooftop loka...</td>\n",
              "      <td>4</td>\n",
              "      <td>4</td>\n",
              "      <td>95</td>\n",
              "      <td>173000000000</td>\n",
              "      <td>2790322581</td>\n",
              "      <td>jagakarsa, jakarta timur, Jagakarsa, Jakarta S...</td>\n",
              "      <td>https://www.rumah.com/listing-properti/dijual-...</td>\n",
              "      <td>20 M - Max</td>\n",
              "      <td>30 Juta- Max</td>\n",
              "      <td>-6.334500</td>\n",
              "      <td>106.81966</td>\n",
              "      <td>1</td>\n",
              "      <td>0.136901</td>\n",
              "      <td>0.125181</td>\n",
              "      <td>0.083512</td>\n",
              "      <td>0.053300</td>\n",
              "      <td>0.124581</td>\n",
              "      <td>0.068157</td>\n",
              "      <td>0.107988</td>\n",
              "      <td>0.103133</td>\n",
              "      <td>0.003109</td>\n",
              "      <td>0.145088</td>\n",
              "      <td>JAGAKARSA</td>\n",
              "    </tr>\n",
              "    <tr>\n",
              "      <th>2</th>\n",
              "      <td>5 Bedrooms Rumah Kebayoran Baru, Jakarta Selat...</td>\n",
              "      <td>5</td>\n",
              "      <td>5</td>\n",
              "      <td>914</td>\n",
              "      <td>170000000000</td>\n",
              "      <td>175983437</td>\n",
              "      <td>Kebayoran Baru, Jakarta Selatan, DKI Jakarta</td>\n",
              "      <td>https://www.rumah.com/listing-properti/dijual-...</td>\n",
              "      <td>20 M - Max</td>\n",
              "      <td>30 Juta- Max</td>\n",
              "      <td>-6.251470</td>\n",
              "      <td>106.79754</td>\n",
              "      <td>2</td>\n",
              "      <td>0.075991</td>\n",
              "      <td>0.064271</td>\n",
              "      <td>0.024290</td>\n",
              "      <td>0.071114</td>\n",
              "      <td>0.019431</td>\n",
              "      <td>0.045408</td>\n",
              "      <td>0.010642</td>\n",
              "      <td>0.049962</td>\n",
              "      <td>0.107404</td>\n",
              "      <td>0.039938</td>\n",
              "      <td>KEBAYORAN BARU</td>\n",
              "    </tr>\n",
              "    <tr>\n",
              "      <th>3</th>\n",
              "      <td>Rumah Dijual Pondok Indah</td>\n",
              "      <td>5</td>\n",
              "      <td>5</td>\n",
              "      <td>1619</td>\n",
              "      <td>110000000000</td>\n",
              "      <td>68750000</td>\n",
              "      <td>Pondok Indah, Pondok Indah, Jakarta Selatan, D...</td>\n",
              "      <td>https://www.rumah.com/listing-properti/dijual-...</td>\n",
              "      <td>20 M - Max</td>\n",
              "      <td>30 Juta- Max</td>\n",
              "      <td>-6.268570</td>\n",
              "      <td>106.78056</td>\n",
              "      <td>3</td>\n",
              "      <td>0.110071</td>\n",
              "      <td>0.098351</td>\n",
              "      <td>0.056682</td>\n",
              "      <td>0.070994</td>\n",
              "      <td>0.019551</td>\n",
              "      <td>0.036873</td>\n",
              "      <td>0.044722</td>\n",
              "      <td>0.076303</td>\n",
              "      <td>0.107284</td>\n",
              "      <td>0.040058</td>\n",
              "      <td>KEBAYORAN LAMA</td>\n",
              "    </tr>\n",
              "    <tr>\n",
              "      <th>4</th>\n",
              "      <td>Dijual rumah pangeran antasari mewah &amp; Elite</td>\n",
              "      <td>6</td>\n",
              "      <td>5</td>\n",
              "      <td>936</td>\n",
              "      <td>102000000000</td>\n",
              "      <td>39968652</td>\n",
              "      <td>jl pangeran antasari, Antasari, Jakarta Selata...</td>\n",
              "      <td>https://www.rumah.com/listing-properti/dijual-...</td>\n",
              "      <td>20 M - Max</td>\n",
              "      <td>30 Juta- Max</td>\n",
              "      <td>-6.261929</td>\n",
              "      <td>106.81267</td>\n",
              "      <td>4</td>\n",
              "      <td>0.071320</td>\n",
              "      <td>0.059600</td>\n",
              "      <td>0.017931</td>\n",
              "      <td>0.045524</td>\n",
              "      <td>0.045020</td>\n",
              "      <td>0.050079</td>\n",
              "      <td>0.028428</td>\n",
              "      <td>0.037552</td>\n",
              "      <td>0.081814</td>\n",
              "      <td>0.065527</td>\n",
              "      <td>MAMPANG PRAPATAN</td>\n",
              "    </tr>\n",
              "  </tbody>\n",
              "</table>\n",
              "</div>"
            ],
            "text/plain": [
              "                                          nama_rumah  ...  kecamatan_terdekat\n",
              "0                          rumah baru patra kuningan  ...          SETIA BUDI\n",
              "1  Hunian mewah 3 lantai di lengkapi Rooftop loka...  ...           JAGAKARSA\n",
              "2  5 Bedrooms Rumah Kebayoran Baru, Jakarta Selat...  ...      KEBAYORAN BARU\n",
              "3                          Rumah Dijual Pondok Indah  ...      KEBAYORAN LAMA\n",
              "4       Dijual rumah pangeran antasari mewah & Elite  ...    MAMPANG PRAPATAN\n",
              "\n",
              "[5 rows x 24 columns]"
            ]
          },
          "metadata": {},
          "execution_count": 26
        }
      ]
    },
    {
      "cell_type": "code",
      "metadata": {
        "id": "hwVBXY5zphJX"
      },
      "source": [
        ""
      ],
      "execution_count": null,
      "outputs": []
    }
  ]
}