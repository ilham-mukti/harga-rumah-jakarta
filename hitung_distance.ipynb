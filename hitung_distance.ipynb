{
  "nbformat": 4,
  "nbformat_minor": 0,
  "metadata": {
    "colab": {
      "name": "hitung-distance.ipynb",
      "provenance": [],
      "collapsed_sections": [],
      "authorship_tag": "ABX9TyN4tJpX1kAEWdFN5T6stGHQ",
      "include_colab_link": true
    },
    "kernelspec": {
      "name": "python3",
      "display_name": "Python 3"
    },
    "language_info": {
      "name": "python"
    }
  },
  "cells": [
    {
      "cell_type": "markdown",
      "metadata": {
        "id": "view-in-github",
        "colab_type": "text"
      },
      "source": [
        "<a href=\"https://colab.research.google.com/github/ilham-mukti/harga-rumah-jakarta/blob/main/hitung_distance.ipynb\" target=\"_parent\"><img src=\"https://colab.research.google.com/assets/colab-badge.svg\" alt=\"Open In Colab\"/></a>"
      ]
    },
    {
      "cell_type": "code",
      "metadata": {
        "id": "lea9LZC4KIiL"
      },
      "source": [
        "import pandas as pd"
      ],
      "execution_count": 1,
      "outputs": []
    },
    {
      "cell_type": "code",
      "metadata": {
        "id": "If_2BJQqNXRP"
      },
      "source": [
        ""
      ],
      "execution_count": null,
      "outputs": []
    },
    {
      "cell_type": "markdown",
      "metadata": {
        "id": "NQFCXP5CNuYM"
      },
      "source": [
        "# Hitung Distance pakai data lat_long rumah + lat long kecamatan"
      ]
    },
    {
      "cell_type": "code",
      "metadata": {
        "id": "mEr8DMMsOA_E"
      },
      "source": [
        "# https://raw.githubusercontent.com/ilham-mukti/harga-rumah-jakarta/main/data/data_rumah_bersih_lat_long.csv\n",
        "# https://raw.githubusercontent.com/ilham-mukti/harga-rumah-jakarta/main/data/lat_long_kecamatan_jakarta.csv"
      ],
      "execution_count": 2,
      "outputs": []
    },
    {
      "cell_type": "code",
      "metadata": {
        "id": "A8rsyMQLOjwR"
      },
      "source": [
        "datas['distance'] = np.abs(datas.pickup_longitude - datas.dropoff_longitude) + np.abs(datas.pickup_latitude - datas.dropoff_latitude)\n",
        "datas.drop(columns=['pickup_longitude', 'dropoff_longitude', 'pickup_latitude', 'dropoff_latitude'], inplace=True)"
      ],
      "execution_count": null,
      "outputs": []
    }
  ]
}