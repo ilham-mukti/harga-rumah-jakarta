{
  "nbformat": 4,
  "nbformat_minor": 0,
  "metadata": {
    "colab": {
      "name": "Bersihini data rumah com.ipynb",
      "provenance": [],
      "collapsed_sections": [],
      "authorship_tag": "ABX9TyMfdG09ZU84U7APmkJawFnE",
      "include_colab_link": true
    },
    "kernelspec": {
      "name": "python3",
      "display_name": "Python 3"
    },
    "language_info": {
      "name": "python"
    }
  },
  "cells": [
    {
      "cell_type": "markdown",
      "metadata": {
        "id": "view-in-github",
        "colab_type": "text"
      },
      "source": [
        "<a href=\"https://colab.research.google.com/github/ilham-mukti/harga-rumah-jakarta/blob/main/Bersihini_data_rumah_com.ipynb\" target=\"_parent\"><img src=\"https://colab.research.google.com/assets/colab-badge.svg\" alt=\"Open In Colab\"/></a>"
      ]
    },
    {
      "cell_type": "code",
      "metadata": {
        "id": "XSCzN_QOA6iz"
      },
      "source": [
        "!pip install geocoder"
      ],
      "execution_count": null,
      "outputs": []
    },
    {
      "cell_type": "code",
      "metadata": {
        "id": "D33MZBUssSde"
      },
      "source": [
        "import pandas as pd\n",
        "import numpy as np\n",
        "import matplotlib.pyplot as plt\n",
        "import seaborn as sns\n",
        "import geocoder\n",
        "from geopy.geocoders import Nominatim \n",
        "sns.set_style(\"darkgrid\")"
      ],
      "execution_count": null,
      "outputs": []
    },
    {
      "cell_type": "code",
      "metadata": {
        "colab": {
          "base_uri": "https://localhost:8080/",
          "height": 476
        },
        "id": "J0NJm-TysKCt",
        "outputId": "c13fc850-684d-478c-f341-b826df967b7f"
      },
      "source": [
        "datas = pd.read_csv(\"/content/data_rumah_fix.csv\")\n",
        "datas.head()"
      ],
      "execution_count": null,
      "outputs": [
        {
          "output_type": "execute_result",
          "data": {
            "text/html": [
              "<div>\n",
              "<style scoped>\n",
              "    .dataframe tbody tr th:only-of-type {\n",
              "        vertical-align: middle;\n",
              "    }\n",
              "\n",
              "    .dataframe tbody tr th {\n",
              "        vertical-align: top;\n",
              "    }\n",
              "\n",
              "    .dataframe thead th {\n",
              "        text-align: right;\n",
              "    }\n",
              "</style>\n",
              "<table border=\"1\" class=\"dataframe\">\n",
              "  <thead>\n",
              "    <tr style=\"text-align: right;\">\n",
              "      <th></th>\n",
              "      <th>nama_rumah</th>\n",
              "      <th>kamar_mandi</th>\n",
              "      <th>kamar_tidur</th>\n",
              "      <th>luas_m2</th>\n",
              "      <th>harga</th>\n",
              "      <th>harga_m2</th>\n",
              "      <th>alamat</th>\n",
              "      <th>link</th>\n",
              "    </tr>\n",
              "  </thead>\n",
              "  <tbody>\n",
              "    <tr>\n",
              "      <th>0</th>\n",
              "      <td>rumah baru patra kuningan</td>\n",
              "      <td>8</td>\n",
              "      <td>8</td>\n",
              "      <td>4617</td>\n",
              "      <td>300000000000</td>\n",
              "      <td>150000000</td>\n",
              "      <td>patra, gatot subroto, kuningan, jakarta, Patra...</td>\n",
              "      <td>https://www.rumah.com/listing-properti/dijual-...</td>\n",
              "    </tr>\n",
              "    <tr>\n",
              "      <th>1</th>\n",
              "      <td>Hunian mewah 3 lantai di lengkapi Rooftop loka...</td>\n",
              "      <td>4</td>\n",
              "      <td>4</td>\n",
              "      <td>95</td>\n",
              "      <td>173000000000</td>\n",
              "      <td>2790322581</td>\n",
              "      <td>jagakarsa, jakarta timur, Jagakarsa, Jakarta S...</td>\n",
              "      <td>https://www.rumah.com/listing-properti/dijual-...</td>\n",
              "    </tr>\n",
              "    <tr>\n",
              "      <th>2</th>\n",
              "      <td>5 Bedrooms Rumah Kebayoran Baru, Jakarta Selat...</td>\n",
              "      <td>5</td>\n",
              "      <td>5</td>\n",
              "      <td>914</td>\n",
              "      <td>170000000000</td>\n",
              "      <td>175983437</td>\n",
              "      <td>Kebayoran Baru, Jakarta Selatan, DKI Jakarta</td>\n",
              "      <td>https://www.rumah.com/listing-properti/dijual-...</td>\n",
              "    </tr>\n",
              "    <tr>\n",
              "      <th>3</th>\n",
              "      <td>Rumah Dijual Pondok Indah</td>\n",
              "      <td>5</td>\n",
              "      <td>5</td>\n",
              "      <td>1619</td>\n",
              "      <td>110000000000</td>\n",
              "      <td>68750000</td>\n",
              "      <td>Pondok Indah, Pondok Indah, Jakarta Selatan, D...</td>\n",
              "      <td>https://www.rumah.com/listing-properti/dijual-...</td>\n",
              "    </tr>\n",
              "    <tr>\n",
              "      <th>4</th>\n",
              "      <td>Dijual rumah pangeran antasari mewah &amp; Elite</td>\n",
              "      <td>6</td>\n",
              "      <td>5</td>\n",
              "      <td>936</td>\n",
              "      <td>102000000000</td>\n",
              "      <td>39968652</td>\n",
              "      <td>jl pangeran antasari, Antasari, Jakarta Selata...</td>\n",
              "      <td>https://www.rumah.com/listing-properti/dijual-...</td>\n",
              "    </tr>\n",
              "  </tbody>\n",
              "</table>\n",
              "</div>"
            ],
            "text/plain": [
              "                                          nama_rumah  ...                                               link\n",
              "0                          rumah baru patra kuningan  ...  https://www.rumah.com/listing-properti/dijual-...\n",
              "1  Hunian mewah 3 lantai di lengkapi Rooftop loka...  ...  https://www.rumah.com/listing-properti/dijual-...\n",
              "2  5 Bedrooms Rumah Kebayoran Baru, Jakarta Selat...  ...  https://www.rumah.com/listing-properti/dijual-...\n",
              "3                          Rumah Dijual Pondok Indah  ...  https://www.rumah.com/listing-properti/dijual-...\n",
              "4       Dijual rumah pangeran antasari mewah & Elite  ...  https://www.rumah.com/listing-properti/dijual-...\n",
              "\n",
              "[5 rows x 8 columns]"
            ]
          },
          "metadata": {},
          "execution_count": 221
        }
      ]
    },
    {
      "cell_type": "code",
      "metadata": {
        "colab": {
          "base_uri": "https://localhost:8080/"
        },
        "id": "uhGafSvbW2I2",
        "outputId": "e9b258c9-7cd7-4be7-9cff-7e06f91f9903"
      },
      "source": [
        "print('Total duplicated rows:', datas.duplicated().sum())\n",
        "datas.drop_duplicates(inplace=True)\n",
        "datas.shape"
      ],
      "execution_count": null,
      "outputs": [
        {
          "output_type": "stream",
          "text": [
            "Total duplicated rows: 14\n"
          ],
          "name": "stdout"
        },
        {
          "output_type": "execute_result",
          "data": {
            "text/plain": [
              "(1898, 8)"
            ]
          },
          "metadata": {},
          "execution_count": 223
        }
      ]
    },
    {
      "cell_type": "code",
      "metadata": {
        "colab": {
          "base_uri": "https://localhost:8080/"
        },
        "id": "HXgB74BOex2H",
        "outputId": "021c3091-8706-4d39-eb09-e2e6932438ed"
      },
      "source": [
        "datas = datas.drop(datas[datas[\"nama_rumah\"].str.contains(\"sewa\")].index)\n",
        "datas.shape"
      ],
      "execution_count": null,
      "outputs": [
        {
          "output_type": "execute_result",
          "data": {
            "text/plain": [
              "(1892, 8)"
            ]
          },
          "metadata": {},
          "execution_count": 224
        }
      ]
    },
    {
      "cell_type": "code",
      "metadata": {
        "id": "I24r8oCze0_b"
      },
      "source": [
        ""
      ],
      "execution_count": null,
      "outputs": []
    },
    {
      "cell_type": "code",
      "metadata": {
        "colab": {
          "base_uri": "https://localhost:8080/",
          "height": 666
        },
        "id": "OCTYVQJpo5KT",
        "outputId": "363b93f7-48c5-496a-c906-0e80a9130aaf"
      },
      "source": [
        "datas['harga_kategori'] = pd.cut(datas['harga'], bins=[0, 1500000000, 3500000000, 5000000000, 10000000000, 20000000000, datas.harga.max()],\n",
        "                                 labels=['0 - 1,5 M', '1,5 - 3,5 M', '3,5 - 5 M', '5 - 10 M', '10 - 20 M', '20 M - Max'])\n",
        "datas.head()"
      ],
      "execution_count": null,
      "outputs": [
        {
          "output_type": "execute_result",
          "data": {
            "text/html": [
              "<div>\n",
              "<style scoped>\n",
              "    .dataframe tbody tr th:only-of-type {\n",
              "        vertical-align: middle;\n",
              "    }\n",
              "\n",
              "    .dataframe tbody tr th {\n",
              "        vertical-align: top;\n",
              "    }\n",
              "\n",
              "    .dataframe thead th {\n",
              "        text-align: right;\n",
              "    }\n",
              "</style>\n",
              "<table border=\"1\" class=\"dataframe\">\n",
              "  <thead>\n",
              "    <tr style=\"text-align: right;\">\n",
              "      <th></th>\n",
              "      <th>nama_rumah</th>\n",
              "      <th>kamar_mandi</th>\n",
              "      <th>kamar_tidur</th>\n",
              "      <th>luas_m2</th>\n",
              "      <th>harga</th>\n",
              "      <th>harga_m2</th>\n",
              "      <th>alamat</th>\n",
              "      <th>link</th>\n",
              "      <th>harga_kategori</th>\n",
              "    </tr>\n",
              "  </thead>\n",
              "  <tbody>\n",
              "    <tr>\n",
              "      <th>0</th>\n",
              "      <td>rumah baru patra kuningan</td>\n",
              "      <td>8</td>\n",
              "      <td>8</td>\n",
              "      <td>4617</td>\n",
              "      <td>300000000000</td>\n",
              "      <td>150000000</td>\n",
              "      <td>patra, gatot subroto, kuningan, jakarta, Patra...</td>\n",
              "      <td>https://www.rumah.com/listing-properti/dijual-...</td>\n",
              "      <td>20 M - Max</td>\n",
              "    </tr>\n",
              "    <tr>\n",
              "      <th>1</th>\n",
              "      <td>Hunian mewah 3 lantai di lengkapi Rooftop loka...</td>\n",
              "      <td>4</td>\n",
              "      <td>4</td>\n",
              "      <td>95</td>\n",
              "      <td>173000000000</td>\n",
              "      <td>2790322581</td>\n",
              "      <td>jagakarsa, jakarta timur, Jagakarsa, Jakarta S...</td>\n",
              "      <td>https://www.rumah.com/listing-properti/dijual-...</td>\n",
              "      <td>20 M - Max</td>\n",
              "    </tr>\n",
              "    <tr>\n",
              "      <th>2</th>\n",
              "      <td>5 Bedrooms Rumah Kebayoran Baru, Jakarta Selat...</td>\n",
              "      <td>5</td>\n",
              "      <td>5</td>\n",
              "      <td>914</td>\n",
              "      <td>170000000000</td>\n",
              "      <td>175983437</td>\n",
              "      <td>Kebayoran Baru, Jakarta Selatan, DKI Jakarta</td>\n",
              "      <td>https://www.rumah.com/listing-properti/dijual-...</td>\n",
              "      <td>20 M - Max</td>\n",
              "    </tr>\n",
              "    <tr>\n",
              "      <th>3</th>\n",
              "      <td>Rumah Dijual Pondok Indah</td>\n",
              "      <td>5</td>\n",
              "      <td>5</td>\n",
              "      <td>1619</td>\n",
              "      <td>110000000000</td>\n",
              "      <td>68750000</td>\n",
              "      <td>Pondok Indah, Pondok Indah, Jakarta Selatan, D...</td>\n",
              "      <td>https://www.rumah.com/listing-properti/dijual-...</td>\n",
              "      <td>20 M - Max</td>\n",
              "    </tr>\n",
              "    <tr>\n",
              "      <th>4</th>\n",
              "      <td>Dijual rumah pangeran antasari mewah &amp; Elite</td>\n",
              "      <td>6</td>\n",
              "      <td>5</td>\n",
              "      <td>936</td>\n",
              "      <td>102000000000</td>\n",
              "      <td>39968652</td>\n",
              "      <td>jl pangeran antasari, Antasari, Jakarta Selata...</td>\n",
              "      <td>https://www.rumah.com/listing-properti/dijual-...</td>\n",
              "      <td>20 M - Max</td>\n",
              "    </tr>\n",
              "  </tbody>\n",
              "</table>\n",
              "</div>"
            ],
            "text/plain": [
              "                                          nama_rumah  ...  harga_kategori\n",
              "0                          rumah baru patra kuningan  ...      20 M - Max\n",
              "1  Hunian mewah 3 lantai di lengkapi Rooftop loka...  ...      20 M - Max\n",
              "2  5 Bedrooms Rumah Kebayoran Baru, Jakarta Selat...  ...      20 M - Max\n",
              "3                          Rumah Dijual Pondok Indah  ...      20 M - Max\n",
              "4       Dijual rumah pangeran antasari mewah & Elite  ...      20 M - Max\n",
              "\n",
              "[5 rows x 9 columns]"
            ]
          },
          "metadata": {},
          "execution_count": 225
        }
      ]
    },
    {
      "cell_type": "code",
      "metadata": {
        "colab": {
          "base_uri": "https://localhost:8080/"
        },
        "id": "oTAXg5GNpZ0m",
        "outputId": "5e851b5a-4812-4169-a2cd-1ab8cc16df14"
      },
      "source": [
        "datas.harga_kategori.value_counts()"
      ],
      "execution_count": null,
      "outputs": [
        {
          "output_type": "execute_result",
          "data": {
            "text/plain": [
              "1,5 - 3,5 M    430\n",
              "10 - 20 M      379\n",
              "5 - 10 M       361\n",
              "0 - 1,5 M      345\n",
              "20 M - Max     230\n",
              "3,5 - 5 M      147\n",
              "Name: harga_kategori, dtype: int64"
            ]
          },
          "metadata": {},
          "execution_count": 226
        }
      ]
    },
    {
      "cell_type": "code",
      "metadata": {
        "colab": {
          "base_uri": "https://localhost:8080/",
          "height": 391
        },
        "id": "HVpE1qwHs2WO",
        "outputId": "9d92b67c-50f5-415e-d12a-f102f79541f3"
      },
      "source": [
        "harga_cat = datas.harga_kategori.value_counts()\n",
        "\n",
        "plt.figure(figsize=(15,6))\n",
        "sns.barplot(x=harga_cat.index, y=harga_cat.values, palette=\"flare\")"
      ],
      "execution_count": null,
      "outputs": [
        {
          "output_type": "execute_result",
          "data": {
            "text/plain": [
              "<matplotlib.axes._subplots.AxesSubplot at 0x7eff91800b90>"
            ]
          },
          "metadata": {},
          "execution_count": 227
        },
        {
          "output_type": "display_data",
          "data": {
            "image/png": "[encoded data removed]",
            "text/plain": [
              "<Figure size 1080x432 with 1 Axes>"
            ]
          },
          "metadata": {}
        }
      ]
    },
    {
      "cell_type": "code",
      "metadata": {
        "colab": {
          "base_uri": "https://localhost:8080/",
          "height": 666
        },
        "id": "DUG0vTssv8x1",
        "outputId": "1acddd8b-be75-4f4c-b6c9-0d593b5c522f"
      },
      "source": [
        "datas['harga_m2_kategori'] = pd.cut(datas['harga_m2'], bins=[0, 10000000, 15000000, 25000000, 30000000, datas.harga_m2.max()],\n",
        "                                 labels=['0 - 10 Juta', '10 - 15 Juta', '15 - 25 Juta', '25 - 30 Juta', '30 Juta- Max'])\n",
        "datas.head()"
      ],
      "execution_count": null,
      "outputs": [
        {
          "output_type": "execute_result",
          "data": {
            "text/html": [
              "<div>\n",
              "<style scoped>\n",
              "    .dataframe tbody tr th:only-of-type {\n",
              "        vertical-align: middle;\n",
              "    }\n",
              "\n",
              "    .dataframe tbody tr th {\n",
              "        vertical-align: top;\n",
              "    }\n",
              "\n",
              "    .dataframe thead th {\n",
              "        text-align: right;\n",
              "    }\n",
              "</style>\n",
              "<table border=\"1\" class=\"dataframe\">\n",
              "  <thead>\n",
              "    <tr style=\"text-align: right;\">\n",
              "      <th></th>\n",
              "      <th>nama_rumah</th>\n",
              "      <th>kamar_mandi</th>\n",
              "      <th>kamar_tidur</th>\n",
              "      <th>luas_m2</th>\n",
              "      <th>harga</th>\n",
              "      <th>harga_m2</th>\n",
              "      <th>alamat</th>\n",
              "      <th>link</th>\n",
              "      <th>harga_kategori</th>\n",
              "      <th>harga_m2_kategori</th>\n",
              "    </tr>\n",
              "  </thead>\n",
              "  <tbody>\n",
              "    <tr>\n",
              "      <th>0</th>\n",
              "      <td>rumah baru patra kuningan</td>\n",
              "      <td>8</td>\n",
              "      <td>8</td>\n",
              "      <td>4617</td>\n",
              "      <td>300000000000</td>\n",
              "      <td>150000000</td>\n",
              "      <td>patra, gatot subroto, kuningan, jakarta, Patra...</td>\n",
              "      <td>https://www.rumah.com/listing-properti/dijual-...</td>\n",
              "      <td>20 M - Max</td>\n",
              "      <td>30 Juta- Max</td>\n",
              "    </tr>\n",
              "    <tr>\n",
              "      <th>1</th>\n",
              "      <td>Hunian mewah 3 lantai di lengkapi Rooftop loka...</td>\n",
              "      <td>4</td>\n",
              "      <td>4</td>\n",
              "      <td>95</td>\n",
              "      <td>173000000000</td>\n",
              "      <td>2790322581</td>\n",
              "      <td>jagakarsa, jakarta timur, Jagakarsa, Jakarta S...</td>\n",
              "      <td>https://www.rumah.com/listing-properti/dijual-...</td>\n",
              "      <td>20 M - Max</td>\n",
              "      <td>30 Juta- Max</td>\n",
              "    </tr>\n",
              "    <tr>\n",
              "      <th>2</th>\n",
              "      <td>5 Bedrooms Rumah Kebayoran Baru, Jakarta Selat...</td>\n",
              "      <td>5</td>\n",
              "      <td>5</td>\n",
              "      <td>914</td>\n",
              "      <td>170000000000</td>\n",
              "      <td>175983437</td>\n",
              "      <td>Kebayoran Baru, Jakarta Selatan, DKI Jakarta</td>\n",
              "      <td>https://www.rumah.com/listing-properti/dijual-...</td>\n",
              "      <td>20 M - Max</td>\n",
              "      <td>30 Juta- Max</td>\n",
              "    </tr>\n",
              "    <tr>\n",
              "      <th>3</th>\n",
              "      <td>Rumah Dijual Pondok Indah</td>\n",
              "      <td>5</td>\n",
              "      <td>5</td>\n",
              "      <td>1619</td>\n",
              "      <td>110000000000</td>\n",
              "      <td>68750000</td>\n",
              "      <td>Pondok Indah, Pondok Indah, Jakarta Selatan, D...</td>\n",
              "      <td>https://www.rumah.com/listing-properti/dijual-...</td>\n",
              "      <td>20 M - Max</td>\n",
              "      <td>30 Juta- Max</td>\n",
              "    </tr>\n",
              "    <tr>\n",
              "      <th>4</th>\n",
              "      <td>Dijual rumah pangeran antasari mewah &amp; Elite</td>\n",
              "      <td>6</td>\n",
              "      <td>5</td>\n",
              "      <td>936</td>\n",
              "      <td>102000000000</td>\n",
              "      <td>39968652</td>\n",
              "      <td>jl pangeran antasari, Antasari, Jakarta Selata...</td>\n",
              "      <td>https://www.rumah.com/listing-properti/dijual-...</td>\n",
              "      <td>20 M - Max</td>\n",
              "      <td>30 Juta- Max</td>\n",
              "    </tr>\n",
              "  </tbody>\n",
              "</table>\n",
              "</div>"
            ],
            "text/plain": [
              "                                          nama_rumah  ...  harga_m2_kategori\n",
              "0                          rumah baru patra kuningan  ...       30 Juta- Max\n",
              "1  Hunian mewah 3 lantai di lengkapi Rooftop loka...  ...       30 Juta- Max\n",
              "2  5 Bedrooms Rumah Kebayoran Baru, Jakarta Selat...  ...       30 Juta- Max\n",
              "3                          Rumah Dijual Pondok Indah  ...       30 Juta- Max\n",
              "4       Dijual rumah pangeran antasari mewah & Elite  ...       30 Juta- Max\n",
              "\n",
              "[5 rows x 10 columns]"
            ]
          },
          "metadata": {},
          "execution_count": 228
        }
      ]
    },
    {
      "cell_type": "code",
      "metadata": {
        "colab": {
          "base_uri": "https://localhost:8080/",
          "height": 391
        },
        "id": "-2RmZIeV03jd",
        "outputId": "8f85760c-7fc9-469b-be29-674ac7d8abe2"
      },
      "source": [
        "harga_m2_cat = datas.harga_m2_kategori.value_counts()\n",
        "\n",
        "plt.figure(figsize=(15,6))\n",
        "sns.barplot(x=harga_m2_cat.index, y=harga_m2_cat.values, palette=\"crest\")"
      ],
      "execution_count": null,
      "outputs": [
        {
          "output_type": "execute_result",
          "data": {
            "text/plain": [
              "<matplotlib.axes._subplots.AxesSubplot at 0x7eff91e3a850>"
            ]
          },
          "metadata": {},
          "execution_count": 230
        },
        {
          "output_type": "display_data",
          "data": {
            "image/png": "[encoded data removed]",
            "text/plain": [
              "<Figure size 1080x432 with 1 Axes>"
            ]
          },
          "metadata": {}
        }
      ]
    },
    {
      "cell_type": "code",
      "metadata": {
        "id": "wghrVS121KGd"
      },
      "source": [
        "datas.to_csv(\"data_rumah_bersih.csv\", index=False)"
      ],
      "execution_count": null,
      "outputs": []
    },
    {
      "cell_type": "code",
      "metadata": {
        "colab": {
          "base_uri": "https://localhost:8080/"
        },
        "id": "OthuR1tR3UVA",
        "outputId": "ab4b4472-a51a-4197-c170-afdfca9626c4"
      },
      "source": [
        "datas.shape"
      ],
      "execution_count": null,
      "outputs": [
        {
          "output_type": "execute_result",
          "data": {
            "text/plain": [
              "(1892, 10)"
            ]
          },
          "metadata": {},
          "execution_count": 232
        }
      ]
    },
    {
      "cell_type": "code",
      "metadata": {
        "id": "6Ty_dwaY3amL"
      },
      "source": [
        ""
      ],
      "execution_count": null,
      "outputs": []
    },
    {
      "cell_type": "markdown",
      "metadata": {
        "id": "bk_jytWfBHge"
      },
      "source": [
        "# Find Lat Long Alamat"
      ]
    },
    {
      "cell_type": "code",
      "metadata": {
        "colab": {
          "base_uri": "https://localhost:8080/"
        },
        "id": "I-IseEdBBbNC",
        "outputId": "26728d9d-2a52-43d1-b605-eb0944d019b3"
      },
      "source": [
        "datas = pd.read_csv(\"/content/data_rumah_bersih.csv\")\n",
        "datas.columns"
      ],
      "execution_count": null,
      "outputs": [
        {
          "output_type": "execute_result",
          "data": {
            "text/plain": [
              "Index(['nama_rumah', 'kamar_mandi', 'kamar_tidur', 'luas_m2', 'harga',\n",
              "       'harga_m2', 'alamat', 'link', 'harga_kategori', 'harga_m2_kategori'],\n",
              "      dtype='object')"
            ]
          },
          "metadata": {},
          "execution_count": 12
        }
      ]
    },
    {
      "cell_type": "code",
      "metadata": {
        "id": "MW0HEUpoA23K"
      },
      "source": [
        "# code for getting the latitude and longitude\n",
        "def get_lati_long(alamat):\n",
        "    lat_lng_coords = None\n",
        "    while(lat_lng_coords is None):\n",
        "        g = geocoder.arcgis('{}, Jakarta, Indonesia'.format(alamat))\n",
        "        lat_lng_coords = g.latlng\n",
        "    print(lat_lng_coords)\n",
        "    return lat_lng_coords"
      ],
      "execution_count": null,
      "outputs": []
    },
    {
      "cell_type": "code",
      "metadata": {
        "id": "-cdbzoALBRQQ"
      },
      "source": [
        "datas['lat_long'] = datas.alamat.apply(get_lati_long)\n"
      ],
      "execution_count": null,
      "outputs": []
    },
    {
      "cell_type": "code",
      "metadata": {
        "colab": {
          "base_uri": "https://localhost:8080/",
          "height": 666
        },
        "id": "wI9U4gixBtu-",
        "outputId": "d7049fb3-e2a6-4dda-fda0-18d0de1177e6"
      },
      "source": [
        "datas.head()"
      ],
      "execution_count": null,
      "outputs": [
        {
          "output_type": "execute_result",
          "data": {
            "text/html": [
              "<div>\n",
              "<style scoped>\n",
              "    .dataframe tbody tr th:only-of-type {\n",
              "        vertical-align: middle;\n",
              "    }\n",
              "\n",
              "    .dataframe tbody tr th {\n",
              "        vertical-align: top;\n",
              "    }\n",
              "\n",
              "    .dataframe thead th {\n",
              "        text-align: right;\n",
              "    }\n",
              "</style>\n",
              "<table border=\"1\" class=\"dataframe\">\n",
              "  <thead>\n",
              "    <tr style=\"text-align: right;\">\n",
              "      <th></th>\n",
              "      <th>nama_rumah</th>\n",
              "      <th>kamar_mandi</th>\n",
              "      <th>kamar_tidur</th>\n",
              "      <th>luas_m2</th>\n",
              "      <th>harga</th>\n",
              "      <th>harga_m2</th>\n",
              "      <th>alamat</th>\n",
              "      <th>link</th>\n",
              "      <th>harga_kategori</th>\n",
              "      <th>harga_m2_kategori</th>\n",
              "      <th>lat_long</th>\n",
              "    </tr>\n",
              "  </thead>\n",
              "  <tbody>\n",
              "    <tr>\n",
              "      <th>0</th>\n",
              "      <td>rumah baru patra kuningan</td>\n",
              "      <td>8</td>\n",
              "      <td>8</td>\n",
              "      <td>4617</td>\n",
              "      <td>300000000000</td>\n",
              "      <td>150000000</td>\n",
              "      <td>patra, gatot subroto, kuningan, jakarta, Patra...</td>\n",
              "      <td>https://www.rumah.com/listing-properti/dijual-...</td>\n",
              "      <td>20 M - Max</td>\n",
              "      <td>30 Juta- Max</td>\n",
              "      <td>[-6.234259999999949, 106.83154000000007]</td>\n",
              "    </tr>\n",
              "    <tr>\n",
              "      <th>1</th>\n",
              "      <td>Hunian mewah 3 lantai di lengkapi Rooftop loka...</td>\n",
              "      <td>4</td>\n",
              "      <td>4</td>\n",
              "      <td>95</td>\n",
              "      <td>173000000000</td>\n",
              "      <td>2790322581</td>\n",
              "      <td>jagakarsa, jakarta timur, Jagakarsa, Jakarta S...</td>\n",
              "      <td>https://www.rumah.com/listing-properti/dijual-...</td>\n",
              "      <td>20 M - Max</td>\n",
              "      <td>30 Juta- Max</td>\n",
              "      <td>[-6.3344999999999345, 106.81966000000006]</td>\n",
              "    </tr>\n",
              "    <tr>\n",
              "      <th>2</th>\n",
              "      <td>5 Bedrooms Rumah Kebayoran Baru, Jakarta Selat...</td>\n",
              "      <td>5</td>\n",
              "      <td>5</td>\n",
              "      <td>914</td>\n",
              "      <td>170000000000</td>\n",
              "      <td>175983437</td>\n",
              "      <td>Kebayoran Baru, Jakarta Selatan, DKI Jakarta</td>\n",
              "      <td>https://www.rumah.com/listing-properti/dijual-...</td>\n",
              "      <td>20 M - Max</td>\n",
              "      <td>30 Juta- Max</td>\n",
              "      <td>[-6.251469999999927, 106.79754000000008]</td>\n",
              "    </tr>\n",
              "    <tr>\n",
              "      <th>3</th>\n",
              "      <td>Rumah Dijual Pondok Indah</td>\n",
              "      <td>5</td>\n",
              "      <td>5</td>\n",
              "      <td>1619</td>\n",
              "      <td>110000000000</td>\n",
              "      <td>68750000</td>\n",
              "      <td>Pondok Indah, Pondok Indah, Jakarta Selatan, D...</td>\n",
              "      <td>https://www.rumah.com/listing-properti/dijual-...</td>\n",
              "      <td>20 M - Max</td>\n",
              "      <td>30 Juta- Max</td>\n",
              "      <td>[-6.268569999999954, 106.78056000000004]</td>\n",
              "    </tr>\n",
              "    <tr>\n",
              "      <th>4</th>\n",
              "      <td>Dijual rumah pangeran antasari mewah &amp; Elite</td>\n",
              "      <td>6</td>\n",
              "      <td>5</td>\n",
              "      <td>936</td>\n",
              "      <td>102000000000</td>\n",
              "      <td>39968652</td>\n",
              "      <td>jl pangeran antasari, Antasari, Jakarta Selata...</td>\n",
              "      <td>https://www.rumah.com/listing-properti/dijual-...</td>\n",
              "      <td>20 M - Max</td>\n",
              "      <td>30 Juta- Max</td>\n",
              "      <td>[-6.261929329446686, 106.8126704313298]</td>\n",
              "    </tr>\n",
              "  </tbody>\n",
              "</table>\n",
              "</div>"
            ],
            "text/plain": [
              "                                          nama_rumah  ...                                   lat_long\n",
              "0                          rumah baru patra kuningan  ...   [-6.234259999999949, 106.83154000000007]\n",
              "1  Hunian mewah 3 lantai di lengkapi Rooftop loka...  ...  [-6.3344999999999345, 106.81966000000006]\n",
              "2  5 Bedrooms Rumah Kebayoran Baru, Jakarta Selat...  ...   [-6.251469999999927, 106.79754000000008]\n",
              "3                          Rumah Dijual Pondok Indah  ...   [-6.268569999999954, 106.78056000000004]\n",
              "4       Dijual rumah pangeran antasari mewah & Elite  ...    [-6.261929329446686, 106.8126704313298]\n",
              "\n",
              "[5 rows x 11 columns]"
            ]
          },
          "metadata": {},
          "execution_count": 15
        }
      ]
    },
    {
      "cell_type": "code",
      "metadata": {
        "id": "6MLXojaWGfaC"
      },
      "source": [
        "datas.to_csv('data_rumah_bersih_lat_long.csv', index=False)"
      ],
      "execution_count": null,
      "outputs": []
    },
    {
      "cell_type": "code",
      "metadata": {
        "id": "j98MOmPaGpnc"
      },
      "source": [
        ""
      ],
      "execution_count": null,
      "outputs": []
    }
  ]
}