{
  "nbformat": 4,
  "nbformat_minor": 0,
  "metadata": {
    "colab": {
      "name": "Jakarta Maps.ipynb",
      "provenance": [],
      "authorship_tag": "ABX9TyPTtD2qvqeVllOJLQlG7Z5e",
      "include_colab_link": true
    },
    "kernelspec": {
      "name": "python3",
      "display_name": "Python 3"
    },
    "language_info": {
      "name": "python"
    }
  },
  "cells": [
    {
      "cell_type": "markdown",
      "metadata": {
        "id": "view-in-github",
        "colab_type": "text"
      },
      "source": [
        "<a href=\"https://colab.research.google.com/github/ilham-mukti/harga-rumah-jakarta/blob/main/Jakarta_Maps.ipynb\" target=\"_parent\"><img src=\"https://colab.research.google.com/assets/colab-badge.svg\" alt=\"Open In Colab\"/></a>"
      ]
    },
    {
      "cell_type": "code",
      "metadata": {
        "id": "Oj5vgOgF-XfK"
      },
      "source": [
        "!pip install geopandas"
      ],
      "execution_count": null,
      "outputs": []
    },
    {
      "cell_type": "code",
      "metadata": {
        "id": "WnWHNCZ_FLYr"
      },
      "source": [
        "!pip install folium"
      ],
      "execution_count": null,
      "outputs": []
    },
    {
      "cell_type": "code",
      "metadata": {
        "id": "SJ4I8T53-N6Y"
      },
      "source": [
        "import geopandas as gpd\n",
        "import folium \n",
        "from folium.plugins import MarkerCluster\n",
        "from shapely import wkt\n",
        "import pandas as pd"
      ],
      "execution_count": 5,
      "outputs": []
    },
    {
      "cell_type": "code",
      "metadata": {
        "id": "9mO2qZdaEliA"
      },
      "source": [
        "df = gpd.read_file(\"/content/Batas_Kec_DKI_Jakarta_Update.shp\")\n",
        "df.head()"
      ],
      "execution_count": null,
      "outputs": []
    },
    {
      "cell_type": "code",
      "metadata": {
        "id": "0G8Jn5iwXOM7"
      },
      "source": [
        "def convert_to_latlong(x):\n",
        "  row = str(x)\n",
        "  result = wkt.loads(row)\n",
        "  lng = result.centroid.coords[0][0]\n",
        "  lat = result.centroid.coords[0][1]\n",
        "  return lng"
      ],
      "execution_count": null,
      "outputs": []
    },
    {
      "cell_type": "code",
      "metadata": {
        "id": "fhfg19InXUEn"
      },
      "source": [
        "df['latitude'] = df.geometry.apply(convert_to_latlong)"
      ],
      "execution_count": null,
      "outputs": []
    },
    {
      "cell_type": "code",
      "metadata": {
        "id": "FpdOaR5pXath"
      },
      "source": [
        "df['longitude'] = df.geometry.apply(convert_to_latlong)"
      ],
      "execution_count": null,
      "outputs": []
    },
    {
      "cell_type": "code",
      "metadata": {
        "colab": {
          "base_uri": "https://localhost:8080/",
          "height": 289
        },
        "id": "DyBhaAJOkzC1",
        "outputId": "cf27557e-da66-4291-c9a1-8ab52432c378"
      },
      "source": [
        "df.head()"
      ],
      "execution_count": null,
      "outputs": [
        {
          "output_type": "execute_result",
          "data": {
            "text/html": [
              "<div>\n",
              "<style scoped>\n",
              "    .dataframe tbody tr th:only-of-type {\n",
              "        vertical-align: middle;\n",
              "    }\n",
              "\n",
              "    .dataframe tbody tr th {\n",
              "        vertical-align: top;\n",
              "    }\n",
              "\n",
              "    .dataframe thead th {\n",
              "        text-align: right;\n",
              "    }\n",
              "</style>\n",
              "<table border=\"1\" class=\"dataframe\">\n",
              "  <thead>\n",
              "    <tr style=\"text-align: right;\">\n",
              "      <th></th>\n",
              "      <th>WADMKC</th>\n",
              "      <th>WADMKK</th>\n",
              "      <th>KDCPUM</th>\n",
              "      <th>KDPKAB</th>\n",
              "      <th>LUASWH</th>\n",
              "      <th>SRS_ID</th>\n",
              "      <th>geometry</th>\n",
              "      <th>latitude</th>\n",
              "      <th>longitude</th>\n",
              "    </tr>\n",
              "  </thead>\n",
              "  <tbody>\n",
              "    <tr>\n",
              "      <th>0</th>\n",
              "      <td>MATRAMAN</td>\n",
              "      <td>JAKARTA TIMUR</td>\n",
              "      <td>317501</td>\n",
              "      <td>3175</td>\n",
              "      <td>485.76</td>\n",
              "      <td>None</td>\n",
              "      <td>POLYGON ((106.87242 -6.19196, 106.87251 -6.191...</td>\n",
              "      <td>-6.203613</td>\n",
              "      <td>106.864537</td>\n",
              "    </tr>\n",
              "    <tr>\n",
              "      <th>1</th>\n",
              "      <td>PULO GADUNG</td>\n",
              "      <td>JAKARTA TIMUR</td>\n",
              "      <td>317502</td>\n",
              "      <td>3175</td>\n",
              "      <td>1490.49</td>\n",
              "      <td>None</td>\n",
              "      <td>POLYGON ((106.89431 -6.17612, 106.89432 -6.176...</td>\n",
              "      <td>-6.193199</td>\n",
              "      <td>106.889005</td>\n",
              "    </tr>\n",
              "    <tr>\n",
              "      <th>2</th>\n",
              "      <td>JATINEGARA</td>\n",
              "      <td>JAKARTA TIMUR</td>\n",
              "      <td>317503</td>\n",
              "      <td>3175</td>\n",
              "      <td>1034.56</td>\n",
              "      <td>None</td>\n",
              "      <td>POLYGON ((106.86757 -6.21497, 106.86785 -6.214...</td>\n",
              "      <td>-6.227304</td>\n",
              "      <td>106.877425</td>\n",
              "    </tr>\n",
              "    <tr>\n",
              "      <th>3</th>\n",
              "      <td>KRAMAT JATI</td>\n",
              "      <td>JAKARTA TIMUR</td>\n",
              "      <td>317504</td>\n",
              "      <td>3175</td>\n",
              "      <td>1307.12</td>\n",
              "      <td>None</td>\n",
              "      <td>POLYGON ((106.87247 -6.25397, 106.87244 -6.254...</td>\n",
              "      <td>-6.276307</td>\n",
              "      <td>106.865442</td>\n",
              "    </tr>\n",
              "    <tr>\n",
              "      <th>4</th>\n",
              "      <td>PASAR REBO</td>\n",
              "      <td>JAKARTA TIMUR</td>\n",
              "      <td>317505</td>\n",
              "      <td>3175</td>\n",
              "      <td>1247.23</td>\n",
              "      <td>None</td>\n",
              "      <td>POLYGON ((106.85795 -6.29221, 106.85812 -6.292...</td>\n",
              "      <td>-6.326415</td>\n",
              "      <td>106.857256</td>\n",
              "    </tr>\n",
              "  </tbody>\n",
              "</table>\n",
              "</div>"
            ],
            "text/plain": [
              "        WADMKC         WADMKK  ...  latitude   longitude\n",
              "0     MATRAMAN  JAKARTA TIMUR  ... -6.203613  106.864537\n",
              "1  PULO GADUNG  JAKARTA TIMUR  ... -6.193199  106.889005\n",
              "2   JATINEGARA  JAKARTA TIMUR  ... -6.227304  106.877425\n",
              "3  KRAMAT JATI  JAKARTA TIMUR  ... -6.276307  106.865442\n",
              "4   PASAR REBO  JAKARTA TIMUR  ... -6.326415  106.857256\n",
              "\n",
              "[5 rows x 9 columns]"
            ]
          },
          "metadata": {},
          "execution_count": 140
        }
      ]
    },
    {
      "cell_type": "code",
      "metadata": {
        "id": "Tf3Q66Nr-ZxU"
      },
      "source": [
        "m = folium.Map(location=[-6.200000, 106.816666], zoom_start=11, tiles='openstreetmap')\n",
        "m"
      ],
      "execution_count": null,
      "outputs": []
    },
    {
      "cell_type": "code",
      "metadata": {
        "id": "5B0RnqL6BGRm"
      },
      "source": [
        "for _, r in df.iterrows():\n",
        "    # Without simplifying the representation of each borough,\n",
        "    # the map might not be displayed\n",
        "    sim_geo = gpd.GeoSeries(r['geometry']).simplify(tolerance=0.0001)\n",
        "    geo_j = sim_geo.to_json()\n",
        "    geo_j = folium.GeoJson(data=geo_j,\n",
        "                           style_function=lambda x: {'fillColor': 'green'})\n",
        "    folium.Popup(r['WADMKC']).add_to(geo_j)\n",
        "    geo_j.add_to(m)\n",
        "m"
      ],
      "execution_count": null,
      "outputs": []
    },
    {
      "cell_type": "code",
      "metadata": {
        "id": "lgdMW7lbFh-z"
      },
      "source": [
        "m = folium.Map(location=[-6.232970,106.834572], tiles='OpenStreetMap', zoom_start=11.4)\n",
        "#cluster = MarkerCluster().add_to(m)\n",
        "m"
      ],
      "execution_count": null,
      "outputs": []
    },
    {
      "cell_type": "code",
      "metadata": {
        "id": "i70LBNnahc5h"
      },
      "source": [
        "for x in range(1, len(df.WADMKC)):\n",
        "  folium.Marker(location=[df.latitude[x], df.longitude[x]], popup=df.WADMKC[x], tooltip=df.WADMKC[x], icon=folium.Icon(color='blue',icon=\"car\", prefix='fa')).add_to(m)\n",
        "m"
      ],
      "execution_count": null,
      "outputs": []
    },
    {
      "cell_type": "code",
      "metadata": {
        "id": "gMu9nVgJhryF"
      },
      "source": [
        "df.to_csv(\"jakarta_kecamatan_maps.csv\", index=False)"
      ],
      "execution_count": null,
      "outputs": []
    },
    {
      "cell_type": "code",
      "metadata": {
        "id": "ska9H8gYmGre"
      },
      "source": [
        ""
      ],
      "execution_count": null,
      "outputs": []
    },
    {
      "cell_type": "code",
      "metadata": {
        "colab": {
          "base_uri": "https://localhost:8080/",
          "height": 683
        },
        "id": "nC8SVA3DEaRS",
        "outputId": "8b9500b5-c722-43ff-b044-d9e1b8ffa6a0"
      },
      "source": [
        "datas = pd.read_csv(\"https://raw.githubusercontent.com/ilham-mukti/harga-rumah-jakarta/main/data/data_rumah_bersih_distance.csv\")\n",
        "datas.head()"
      ],
      "execution_count": 38,
      "outputs": [
        {
          "output_type": "execute_result",
          "data": {
            "text/html": [
              "<div>\n",
              "<style scoped>\n",
              "    .dataframe tbody tr th:only-of-type {\n",
              "        vertical-align: middle;\n",
              "    }\n",
              "\n",
              "    .dataframe tbody tr th {\n",
              "        vertical-align: top;\n",
              "    }\n",
              "\n",
              "    .dataframe thead th {\n",
              "        text-align: right;\n",
              "    }\n",
              "</style>\n",
              "<table border=\"1\" class=\"dataframe\">\n",
              "  <thead>\n",
              "    <tr style=\"text-align: right;\">\n",
              "      <th></th>\n",
              "      <th>nama_rumah</th>\n",
              "      <th>kamar_mandi</th>\n",
              "      <th>kamar_tidur</th>\n",
              "      <th>luas_m2</th>\n",
              "      <th>harga</th>\n",
              "      <th>harga_m2</th>\n",
              "      <th>alamat</th>\n",
              "      <th>link</th>\n",
              "      <th>harga_kategori</th>\n",
              "      <th>harga_m2_kategori</th>\n",
              "      <th>latitude</th>\n",
              "      <th>longitude</th>\n",
              "      <th>nomor</th>\n",
              "      <th>TEBET</th>\n",
              "      <th>SETIA BUDI</th>\n",
              "      <th>MAMPANG PRAPATAN</th>\n",
              "      <th>PASAR MINGGU</th>\n",
              "      <th>KEBAYORAN LAMA</th>\n",
              "      <th>CILANDAK</th>\n",
              "      <th>KEBAYORAN BARU</th>\n",
              "      <th>PANCORAN</th>\n",
              "      <th>JAGAKARSA</th>\n",
              "      <th>PESANGGRAHAN</th>\n",
              "      <th>kecamatan_terdekat</th>\n",
              "    </tr>\n",
              "  </thead>\n",
              "  <tbody>\n",
              "    <tr>\n",
              "      <th>0</th>\n",
              "      <td>rumah baru patra kuningan</td>\n",
              "      <td>8</td>\n",
              "      <td>8</td>\n",
              "      <td>4617</td>\n",
              "      <td>300000000000</td>\n",
              "      <td>150000000</td>\n",
              "      <td>patra, gatot subroto, kuningan, jakarta, Patra...</td>\n",
              "      <td>https://www.rumah.com/listing-properti/dijual-...</td>\n",
              "      <td>20 M - Max</td>\n",
              "      <td>30 Juta- Max</td>\n",
              "      <td>-6.234260</td>\n",
              "      <td>106.83154</td>\n",
              "      <td>0</td>\n",
              "      <td>0.024781</td>\n",
              "      <td>0.016152</td>\n",
              "      <td>0.028608</td>\n",
              "      <td>0.058820</td>\n",
              "      <td>0.066704</td>\n",
              "      <td>0.096618</td>\n",
              "      <td>0.040568</td>\n",
              "      <td>0.033172</td>\n",
              "      <td>0.109011</td>\n",
              "      <td>0.089001</td>\n",
              "      <td>SETIA BUDI</td>\n",
              "    </tr>\n",
              "    <tr>\n",
              "      <th>1</th>\n",
              "      <td>Hunian mewah 3 lantai di lengkapi Rooftop loka...</td>\n",
              "      <td>4</td>\n",
              "      <td>4</td>\n",
              "      <td>95</td>\n",
              "      <td>173000000000</td>\n",
              "      <td>2790322581</td>\n",
              "      <td>jagakarsa, jakarta timur, Jagakarsa, Jakarta S...</td>\n",
              "      <td>https://www.rumah.com/listing-properti/dijual-...</td>\n",
              "      <td>20 M - Max</td>\n",
              "      <td>30 Juta- Max</td>\n",
              "      <td>-6.334500</td>\n",
              "      <td>106.81966</td>\n",
              "      <td>1</td>\n",
              "      <td>0.136901</td>\n",
              "      <td>0.125181</td>\n",
              "      <td>0.083512</td>\n",
              "      <td>0.053300</td>\n",
              "      <td>0.124581</td>\n",
              "      <td>0.068157</td>\n",
              "      <td>0.107988</td>\n",
              "      <td>0.103133</td>\n",
              "      <td>0.003109</td>\n",
              "      <td>0.145088</td>\n",
              "      <td>JAGAKARSA</td>\n",
              "    </tr>\n",
              "    <tr>\n",
              "      <th>2</th>\n",
              "      <td>5 Bedrooms Rumah Kebayoran Baru, Jakarta Selat...</td>\n",
              "      <td>5</td>\n",
              "      <td>5</td>\n",
              "      <td>914</td>\n",
              "      <td>170000000000</td>\n",
              "      <td>175983437</td>\n",
              "      <td>Kebayoran Baru, Jakarta Selatan, DKI Jakarta</td>\n",
              "      <td>https://www.rumah.com/listing-properti/dijual-...</td>\n",
              "      <td>20 M - Max</td>\n",
              "      <td>30 Juta- Max</td>\n",
              "      <td>-6.251470</td>\n",
              "      <td>106.79754</td>\n",
              "      <td>2</td>\n",
              "      <td>0.075991</td>\n",
              "      <td>0.064271</td>\n",
              "      <td>0.024290</td>\n",
              "      <td>0.071114</td>\n",
              "      <td>0.019431</td>\n",
              "      <td>0.045408</td>\n",
              "      <td>0.010642</td>\n",
              "      <td>0.049962</td>\n",
              "      <td>0.107404</td>\n",
              "      <td>0.039938</td>\n",
              "      <td>KEBAYORAN BARU</td>\n",
              "    </tr>\n",
              "    <tr>\n",
              "      <th>3</th>\n",
              "      <td>Rumah Dijual Pondok Indah</td>\n",
              "      <td>5</td>\n",
              "      <td>5</td>\n",
              "      <td>1619</td>\n",
              "      <td>110000000000</td>\n",
              "      <td>68750000</td>\n",
              "      <td>Pondok Indah, Pondok Indah, Jakarta Selatan, D...</td>\n",
              "      <td>https://www.rumah.com/listing-properti/dijual-...</td>\n",
              "      <td>20 M - Max</td>\n",
              "      <td>30 Juta- Max</td>\n",
              "      <td>-6.268570</td>\n",
              "      <td>106.78056</td>\n",
              "      <td>3</td>\n",
              "      <td>0.110071</td>\n",
              "      <td>0.098351</td>\n",
              "      <td>0.056682</td>\n",
              "      <td>0.070994</td>\n",
              "      <td>0.019551</td>\n",
              "      <td>0.036873</td>\n",
              "      <td>0.044722</td>\n",
              "      <td>0.076303</td>\n",
              "      <td>0.107284</td>\n",
              "      <td>0.040058</td>\n",
              "      <td>KEBAYORAN LAMA</td>\n",
              "    </tr>\n",
              "    <tr>\n",
              "      <th>4</th>\n",
              "      <td>Dijual rumah pangeran antasari mewah &amp; Elite</td>\n",
              "      <td>6</td>\n",
              "      <td>5</td>\n",
              "      <td>936</td>\n",
              "      <td>102000000000</td>\n",
              "      <td>39968652</td>\n",
              "      <td>jl pangeran antasari, Antasari, Jakarta Selata...</td>\n",
              "      <td>https://www.rumah.com/listing-properti/dijual-...</td>\n",
              "      <td>20 M - Max</td>\n",
              "      <td>30 Juta- Max</td>\n",
              "      <td>-6.261929</td>\n",
              "      <td>106.81267</td>\n",
              "      <td>4</td>\n",
              "      <td>0.071320</td>\n",
              "      <td>0.059600</td>\n",
              "      <td>0.017931</td>\n",
              "      <td>0.045524</td>\n",
              "      <td>0.045020</td>\n",
              "      <td>0.050079</td>\n",
              "      <td>0.028428</td>\n",
              "      <td>0.037552</td>\n",
              "      <td>0.081814</td>\n",
              "      <td>0.065527</td>\n",
              "      <td>MAMPANG PRAPATAN</td>\n",
              "    </tr>\n",
              "  </tbody>\n",
              "</table>\n",
              "</div>"
            ],
            "text/plain": [
              "                                          nama_rumah  ...  kecamatan_terdekat\n",
              "0                          rumah baru patra kuningan  ...          SETIA BUDI\n",
              "1  Hunian mewah 3 lantai di lengkapi Rooftop loka...  ...           JAGAKARSA\n",
              "2  5 Bedrooms Rumah Kebayoran Baru, Jakarta Selat...  ...      KEBAYORAN BARU\n",
              "3                          Rumah Dijual Pondok Indah  ...      KEBAYORAN LAMA\n",
              "4       Dijual rumah pangeran antasari mewah & Elite  ...    MAMPANG PRAPATAN\n",
              "\n",
              "[5 rows x 24 columns]"
            ]
          },
          "metadata": {},
          "execution_count": 38
        }
      ]
    },
    {
      "cell_type": "code",
      "metadata": {
        "colab": {
          "base_uri": "https://localhost:8080/"
        },
        "id": "gIEyoIkuGAWw",
        "outputId": "c0c89e9e-e940-4087-fd49-ca4fffe0f91e"
      },
      "source": [
        "datas.columheadns"
      ],
      "execution_count": 13,
      "outputs": [
        {
          "output_type": "execute_result",
          "data": {
            "text/plain": [
              "Index(['nama_rumah', 'kamar_mandi', 'kamar_tidur', 'luas_m2', 'harga',\n",
              "       'harga_m2', 'alamat', 'link', 'harga_kategori', 'harga_m2_kategori',\n",
              "       'latitude', 'longitude', 'nomor', 'TEBET', 'SETIA BUDI',\n",
              "       'MAMPANG PRAPATAN', 'PASAR MINGGU', 'KEBAYORAN LAMA', 'CILANDAK',\n",
              "       'KEBAYORAN BARU', 'PANCORAN', 'JAGAKARSA', 'PESANGGRAHAN',\n",
              "       'kecamatan_terdekat'],\n",
              "      dtype='object')"
            ]
          },
          "metadata": {},
          "execution_count": 13
        }
      ]
    },
    {
      "cell_type": "code",
      "metadata": {
        "colab": {
          "base_uri": "https://localhost:8080/"
        },
        "id": "7S6vYl3IEfQv",
        "outputId": "29548c6b-b0de-4b3e-b264-dbbf522e3faf"
      },
      "source": [
        "kecamatans = ['TEBET', 'SETIA BUDI',\n",
        "       'MAMPANG PRAPATAN', 'PASAR MINGGU', 'KEBAYORAN LAMA', 'CILANDAK',\n",
        "       'KEBAYORAN BARU', 'PANCORAN', 'JAGAKARSA', 'PESANGGRAHAN']\n",
        "\n",
        "for kecamatan in kecamatans:\n",
        "  harga_jagakarsa = datas[datas.kecamatan_terdekat == kecamatan]\n",
        "  rata2 = int(harga_jagakarsa['harga_m2'].mean())\n",
        "  print(kecamatan, rata2)"
      ],
      "execution_count": 17,
      "outputs": [
        {
          "output_type": "stream",
          "text": [
            "TEBET 29926256\n",
            "SETIA BUDI 53573137\n",
            "MAMPANG PRAPATAN 57233467\n",
            "PASAR MINGGU 24242697\n",
            "KEBAYORAN LAMA 45224484\n",
            "CILANDAK 24922591\n",
            "KEBAYORAN BARU 50648193\n",
            "PANCORAN 145727785\n",
            "JAGAKARSA 25566033\n",
            "PESANGGRAHAN 19826045\n"
          ],
          "name": "stdout"
        }
      ]
    },
    {
      "cell_type": "code",
      "metadata": {
        "id": "GQqyv7keE7UU"
      },
      "source": [
        "lat_long_kecamatan = pd.read_csv(\"https://raw.githubusercontent.com/ilham-mukti/harga-rumah-jakarta/main/data/lat_long_kecamatan_jakarta.csv\")\n",
        "lat_long_kecamatan = lat_long_kecamatan[lat_long_kecamatan.WADMKK == 'JAKARTA SELATAN']"
      ],
      "execution_count": 29,
      "outputs": []
    },
    {
      "cell_type": "code",
      "metadata": {
        "colab": {
          "base_uri": "https://localhost:8080/",
          "height": 289
        },
        "id": "6a5v7QRYHRC4",
        "outputId": "b836dbb6-79a6-4f91-cd5f-9408ebf9eae9"
      },
      "source": [
        "lat_long_kecamatan.head()"
      ],
      "execution_count": 30,
      "outputs": [
        {
          "output_type": "execute_result",
          "data": {
            "text/html": [
              "<div>\n",
              "<style scoped>\n",
              "    .dataframe tbody tr th:only-of-type {\n",
              "        vertical-align: middle;\n",
              "    }\n",
              "\n",
              "    .dataframe tbody tr th {\n",
              "        vertical-align: top;\n",
              "    }\n",
              "\n",
              "    .dataframe thead th {\n",
              "        text-align: right;\n",
              "    }\n",
              "</style>\n",
              "<table border=\"1\" class=\"dataframe\">\n",
              "  <thead>\n",
              "    <tr style=\"text-align: right;\">\n",
              "      <th></th>\n",
              "      <th>WADMKC</th>\n",
              "      <th>WADMKK</th>\n",
              "      <th>KDCPUM</th>\n",
              "      <th>KDPKAB</th>\n",
              "      <th>LUASWH</th>\n",
              "      <th>SRS_ID</th>\n",
              "      <th>geometry</th>\n",
              "      <th>latitude</th>\n",
              "      <th>longitude</th>\n",
              "    </tr>\n",
              "  </thead>\n",
              "  <tbody>\n",
              "    <tr>\n",
              "      <th>34</th>\n",
              "      <td>TEBET</td>\n",
              "      <td>JAKARTA SELATAN</td>\n",
              "      <td>317401</td>\n",
              "      <td>3174</td>\n",
              "      <td>933.26</td>\n",
              "      <td>NaN</td>\n",
              "      <td>POLYGON ((106.856649228 -6.215143722999986, 10...</td>\n",
              "      <td>-6.228843</td>\n",
              "      <td>106.850904</td>\n",
              "    </tr>\n",
              "    <tr>\n",
              "      <th>35</th>\n",
              "      <td>SETIA BUDI</td>\n",
              "      <td>JAKARTA SELATAN</td>\n",
              "      <td>317402</td>\n",
              "      <td>3174</td>\n",
              "      <td>893.64</td>\n",
              "      <td>NaN</td>\n",
              "      <td>POLYGON ((106.846646655 -6.20866563200002, 106...</td>\n",
              "      <td>-6.219653</td>\n",
              "      <td>106.829994</td>\n",
              "    </tr>\n",
              "    <tr>\n",
              "      <th>36</th>\n",
              "      <td>MAMPANG PRAPATAN</td>\n",
              "      <td>JAKARTA SELATAN</td>\n",
              "      <td>317403</td>\n",
              "      <td>3174</td>\n",
              "      <td>794.43</td>\n",
              "      <td>NaN</td>\n",
              "      <td>POLYGON ((106.82075668 -6.231703132000004, 106...</td>\n",
              "      <td>-6.252314</td>\n",
              "      <td>106.820986</td>\n",
              "    </tr>\n",
              "    <tr>\n",
              "      <th>37</th>\n",
              "      <td>PASAR MINGGU</td>\n",
              "      <td>JAKARTA SELATAN</td>\n",
              "      <td>317404</td>\n",
              "      <td>3174</td>\n",
              "      <td>2161.50</td>\n",
              "      <td>NaN</td>\n",
              "      <td>POLYGON ((106.852037833 -6.262272772000015, 10...</td>\n",
              "      <td>-6.290832</td>\n",
              "      <td>106.829292</td>\n",
              "    </tr>\n",
              "    <tr>\n",
              "      <th>38</th>\n",
              "      <td>KEBAYORAN LAMA</td>\n",
              "      <td>JAKARTA SELATAN</td>\n",
              "      <td>317405</td>\n",
              "      <td>3174</td>\n",
              "      <td>1905.61</td>\n",
              "      <td>NaN</td>\n",
              "      <td>POLYGON ((106.789069874 -6.208471040999994, 10...</td>\n",
              "      <td>-6.249502</td>\n",
              "      <td>106.780078</td>\n",
              "    </tr>\n",
              "  </tbody>\n",
              "</table>\n",
              "</div>"
            ],
            "text/plain": [
              "              WADMKC           WADMKK  ...  latitude   longitude\n",
              "34             TEBET  JAKARTA SELATAN  ... -6.228843  106.850904\n",
              "35        SETIA BUDI  JAKARTA SELATAN  ... -6.219653  106.829994\n",
              "36  MAMPANG PRAPATAN  JAKARTA SELATAN  ... -6.252314  106.820986\n",
              "37      PASAR MINGGU  JAKARTA SELATAN  ... -6.290832  106.829292\n",
              "38    KEBAYORAN LAMA  JAKARTA SELATAN  ... -6.249502  106.780078\n",
              "\n",
              "[5 rows x 9 columns]"
            ]
          },
          "metadata": {},
          "execution_count": 30
        }
      ]
    },
    {
      "cell_type": "code",
      "metadata": {
        "id": "a8b1itVeHckh"
      },
      "source": [
        "def cari_rata(x):\n",
        "  harga = datas[datas.kecamatan_terdekat == x]\n",
        "  rata2 = int(harga['harga_m2'].median())\n",
        "  return rata2"
      ],
      "execution_count": 34,
      "outputs": []
    },
    {
      "cell_type": "code",
      "metadata": {
        "id": "S_4hXFXPH4xD"
      },
      "source": [
        "lat_long_kecamatan['harga_m2_rata2'] = lat_long_kecamatan.WADMKC.apply(cari_rata)"
      ],
      "execution_count": 35,
      "outputs": []
    },
    {
      "cell_type": "code",
      "metadata": {
        "colab": {
          "base_uri": "https://localhost:8080/",
          "height": 889
        },
        "id": "HvfofcngImv4",
        "outputId": "bf503107-6915-4715-89a9-296db505b505"
      },
      "source": [
        "lat_long_kecamatan.head(10)"
      ],
      "execution_count": 39,
      "outputs": [
        {
          "output_type": "execute_result",
          "data": {
            "text/html": [
              "<div>\n",
              "<style scoped>\n",
              "    .dataframe tbody tr th:only-of-type {\n",
              "        vertical-align: middle;\n",
              "    }\n",
              "\n",
              "    .dataframe tbody tr th {\n",
              "        vertical-align: top;\n",
              "    }\n",
              "\n",
              "    .dataframe thead th {\n",
              "        text-align: right;\n",
              "    }\n",
              "</style>\n",
              "<table border=\"1\" class=\"dataframe\">\n",
              "  <thead>\n",
              "    <tr style=\"text-align: right;\">\n",
              "      <th></th>\n",
              "      <th>WADMKC</th>\n",
              "      <th>WADMKK</th>\n",
              "      <th>KDCPUM</th>\n",
              "      <th>KDPKAB</th>\n",
              "      <th>LUASWH</th>\n",
              "      <th>SRS_ID</th>\n",
              "      <th>geometry</th>\n",
              "      <th>latitude</th>\n",
              "      <th>longitude</th>\n",
              "      <th>harga_rata2</th>\n",
              "      <th>harga_m2_rata2</th>\n",
              "    </tr>\n",
              "  </thead>\n",
              "  <tbody>\n",
              "    <tr>\n",
              "      <th>34</th>\n",
              "      <td>TEBET</td>\n",
              "      <td>JAKARTA SELATAN</td>\n",
              "      <td>317401</td>\n",
              "      <td>3174</td>\n",
              "      <td>933.26</td>\n",
              "      <td>NaN</td>\n",
              "      <td>POLYGON ((106.856649228 -6.215143722999986, 10...</td>\n",
              "      <td>-6.228843</td>\n",
              "      <td>106.850904</td>\n",
              "      <td>6600000000</td>\n",
              "      <td>28515625</td>\n",
              "    </tr>\n",
              "    <tr>\n",
              "      <th>35</th>\n",
              "      <td>SETIA BUDI</td>\n",
              "      <td>JAKARTA SELATAN</td>\n",
              "      <td>317402</td>\n",
              "      <td>3174</td>\n",
              "      <td>893.64</td>\n",
              "      <td>NaN</td>\n",
              "      <td>POLYGON ((106.846646655 -6.20866563200002, 106...</td>\n",
              "      <td>-6.219653</td>\n",
              "      <td>106.829994</td>\n",
              "      <td>16500000000</td>\n",
              "      <td>48223350</td>\n",
              "    </tr>\n",
              "    <tr>\n",
              "      <th>36</th>\n",
              "      <td>MAMPANG PRAPATAN</td>\n",
              "      <td>JAKARTA SELATAN</td>\n",
              "      <td>317403</td>\n",
              "      <td>3174</td>\n",
              "      <td>794.43</td>\n",
              "      <td>NaN</td>\n",
              "      <td>POLYGON ((106.82075668 -6.231703132000004, 106...</td>\n",
              "      <td>-6.252314</td>\n",
              "      <td>106.820986</td>\n",
              "      <td>13750000000</td>\n",
              "      <td>30952381</td>\n",
              "    </tr>\n",
              "    <tr>\n",
              "      <th>37</th>\n",
              "      <td>PASAR MINGGU</td>\n",
              "      <td>JAKARTA SELATAN</td>\n",
              "      <td>317404</td>\n",
              "      <td>3174</td>\n",
              "      <td>2161.50</td>\n",
              "      <td>NaN</td>\n",
              "      <td>POLYGON ((106.852037833 -6.262272772000015, 10...</td>\n",
              "      <td>-6.290832</td>\n",
              "      <td>106.829292</td>\n",
              "      <td>3850000000</td>\n",
              "      <td>22012799</td>\n",
              "    </tr>\n",
              "    <tr>\n",
              "      <th>38</th>\n",
              "      <td>KEBAYORAN LAMA</td>\n",
              "      <td>JAKARTA SELATAN</td>\n",
              "      <td>317405</td>\n",
              "      <td>3174</td>\n",
              "      <td>1905.61</td>\n",
              "      <td>NaN</td>\n",
              "      <td>POLYGON ((106.789069874 -6.208471040999994, 10...</td>\n",
              "      <td>-6.249502</td>\n",
              "      <td>106.780078</td>\n",
              "      <td>15000000000</td>\n",
              "      <td>41666667</td>\n",
              "    </tr>\n",
              "    <tr>\n",
              "      <th>39</th>\n",
              "      <td>CILANDAK</td>\n",
              "      <td>JAKARTA SELATAN</td>\n",
              "      <td>317406</td>\n",
              "      <td>3174</td>\n",
              "      <td>1774.56</td>\n",
              "      <td>NaN</td>\n",
              "      <td>POLYGON ((106.789952036 -6.263820368999971, 10...</td>\n",
              "      <td>-6.292671</td>\n",
              "      <td>106.793333</td>\n",
              "      <td>5900000000</td>\n",
              "      <td>22972602</td>\n",
              "    </tr>\n",
              "    <tr>\n",
              "      <th>40</th>\n",
              "      <td>KEBAYORAN BARU</td>\n",
              "      <td>JAKARTA SELATAN</td>\n",
              "      <td>317407</td>\n",
              "      <td>3174</td>\n",
              "      <td>1269.06</td>\n",
              "      <td>NaN</td>\n",
              "      <td>POLYGON ((106.817139357 -6.229120749999988, 10...</td>\n",
              "      <td>-6.244730</td>\n",
              "      <td>106.801442</td>\n",
              "      <td>12750000000</td>\n",
              "      <td>34378476</td>\n",
              "    </tr>\n",
              "    <tr>\n",
              "      <th>41</th>\n",
              "      <td>PANCORAN</td>\n",
              "      <td>JAKARTA SELATAN</td>\n",
              "      <td>317408</td>\n",
              "      <td>3174</td>\n",
              "      <td>886.87</td>\n",
              "      <td>NaN</td>\n",
              "      <td>POLYGON ((106.845948558 -6.243461970999988, 10...</td>\n",
              "      <td>-6.255339</td>\n",
              "      <td>106.843633</td>\n",
              "      <td>7600000000</td>\n",
              "      <td>19955731</td>\n",
              "    </tr>\n",
              "    <tr>\n",
              "      <th>42</th>\n",
              "      <td>JAGAKARSA</td>\n",
              "      <td>JAKARTA SELATAN</td>\n",
              "      <td>317409</td>\n",
              "      <td>3174</td>\n",
              "      <td>2512.77</td>\n",
              "      <td>NaN</td>\n",
              "      <td>POLYGON ((106.848989639 -6.297745480000009, 10...</td>\n",
              "      <td>-6.334072</td>\n",
              "      <td>106.822342</td>\n",
              "      <td>1900000000</td>\n",
              "      <td>18333333</td>\n",
              "    </tr>\n",
              "    <tr>\n",
              "      <th>43</th>\n",
              "      <td>PESANGGRAHAN</td>\n",
              "      <td>JAKARTA SELATAN</td>\n",
              "      <td>317410</td>\n",
              "      <td>3174</td>\n",
              "      <td>1350.71</td>\n",
              "      <td>NaN</td>\n",
              "      <td>POLYGON ((106.764712832 -6.222399933000023, 10...</td>\n",
              "      <td>-6.250397</td>\n",
              "      <td>106.758676</td>\n",
              "      <td>2600000000</td>\n",
              "      <td>16608108</td>\n",
              "    </tr>\n",
              "  </tbody>\n",
              "</table>\n",
              "</div>"
            ],
            "text/plain": [
              "              WADMKC           WADMKK  ...  harga_rata2  harga_m2_rata2\n",
              "34             TEBET  JAKARTA SELATAN  ...   6600000000        28515625\n",
              "35        SETIA BUDI  JAKARTA SELATAN  ...  16500000000        48223350\n",
              "36  MAMPANG PRAPATAN  JAKARTA SELATAN  ...  13750000000        30952381\n",
              "37      PASAR MINGGU  JAKARTA SELATAN  ...   3850000000        22012799\n",
              "38    KEBAYORAN LAMA  JAKARTA SELATAN  ...  15000000000        41666667\n",
              "39          CILANDAK  JAKARTA SELATAN  ...   5900000000        22972602\n",
              "40    KEBAYORAN BARU  JAKARTA SELATAN  ...  12750000000        34378476\n",
              "41          PANCORAN  JAKARTA SELATAN  ...   7600000000        19955731\n",
              "42         JAGAKARSA  JAKARTA SELATAN  ...   1900000000        18333333\n",
              "43      PESANGGRAHAN  JAKARTA SELATAN  ...   2600000000        16608108\n",
              "\n",
              "[10 rows x 11 columns]"
            ]
          },
          "metadata": {},
          "execution_count": 39
        }
      ]
    },
    {
      "cell_type": "code",
      "metadata": {
        "id": "XS0BlwphIHp0"
      },
      "source": [
        "lat_long_kecamatan.to_csv(\"data_jadi_untuk_visualisasi.csv\", index=False)"
      ],
      "execution_count": 37,
      "outputs": []
    },
    {
      "cell_type": "code",
      "metadata": {
        "id": "6PXGhe40JI_o"
      },
      "source": [
        ""
      ],
      "execution_count": null,
      "outputs": []
    }
  ]
}